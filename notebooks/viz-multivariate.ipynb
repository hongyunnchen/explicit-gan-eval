{
 "cells": [
  {
   "cell_type": "code",
   "execution_count": 1,
   "metadata": {},
   "outputs": [
    {
     "data": {
      "text/html": [
       "<style>.container { width:80% !important; }</style>"
      ],
      "text/plain": [
       "<IPython.core.display.HTML object>"
      ]
     },
     "metadata": {},
     "output_type": "display_data"
    }
   ],
   "source": [
    "import os, sys, json\n",
    "module_path = os.path.abspath(os.path.join('..'))\n",
    "sys.path.append(module_path)\n",
    "\n",
    "from utils import *\n",
    "\n",
    "# Increase display width\n",
    "display(HTML(\"<style>.container { width:80% !important; }</style>\"))"
   ]
  },
  {
   "cell_type": "code",
   "execution_count": 3,
   "metadata": {},
   "outputs": [],
   "source": [
    "\"\"\" Reproduce Figures and Tables \"\"\"\n",
    "%matplotlib inline\n",
    "\n",
    "# Empirical 'Expected'\n",
    "expected = get_empirical_divergences()\n",
    "        \n",
    "# Reproduce subplots from Figures 1, 2, and 3\n",
    "graph_multivariate(expected=expected, ci=True, omit_outliers=True, thresh=2.5, save=False)\n",
    "\n",
    "# Reproduce data for Table 2 that was presented in Tables 3, 4, and 5\n",
    "param_dict = print_confidence_intervals()\n",
    "\n",
    "# Reproduct subplots from Figures 4, 5, and 6\n",
    "graph_fncsamples(param_dict, expected=expected, save=False)\n",
    "\n",
    "# Reproduce data used for Table 6\n",
    "print_best_hyperparameters()\n",
    "\n",
    "# Reproduce data from Table 7\n",
    "robust = hyperparameter_robustness()\n",
    "\n",
    "# Reproduce data from Table 8\n",
    "get_trainable_param_counts()"
   ]
  }
 ],
 "metadata": {
  "kernelspec": {
   "display_name": "Python 3",
   "language": "python",
   "name": "python3"
  },
  "language_info": {
   "codemirror_mode": {
    "name": "ipython",
    "version": 3
   },
   "file_extension": ".py",
   "mimetype": "text/x-python",
   "name": "python",
   "nbconvert_exporter": "python",
   "pygments_lexer": "ipython3",
   "version": "3.6.5"
  }
 },
 "nbformat": 4,
 "nbformat_minor": 2
}
