{
 "cells": [
  {
   "cell_type": "code",
   "execution_count": 148,
   "metadata": {},
   "outputs": [],
   "source": [
    "import os, sys\n",
    "module_path = os.path.abspath(os.path.join('..'))\n",
    "sys.path.append(module_path)\n",
    "\n",
    "from data import CirclesDatasetGenerator\n",
    "from models.gan_utils import preprocess\n",
    "from data import *\n",
    "import matplotlib.pyplot as plt\n",
    "from itertools import product"
   ]
  },
  {
   "cell_type": "code",
   "execution_count": 131,
   "metadata": {},
   "outputs": [],
   "source": [
    "dimensions = 10\n",
    "samples = 100"
   ]
  },
  {
   "cell_type": "code",
   "execution_count": 149,
   "metadata": {},
   "outputs": [],
   "source": [
    "class CirclesDatasetGenerator:\n",
    "\n",
    "    def __init__(self, size=28, n_circles=1, modes=1, random_colors=True, random_sizes=True):\n",
    "\n",
    "        self.size = size\n",
    "        self.circles = n_circles\n",
    "        self.has_random_colors = random_colors\n",
    "        self.has_random_sizes = random_sizes\n",
    "        self.modes = modes\n",
    "\n",
    "        n_vars = n_circles * 2\n",
    "        if random_colors:\n",
    "            n_vars += n_circles * 3\n",
    "\n",
    "        if random_sizes:\n",
    "            n_vars += n_circles\n",
    "\n",
    "        self.generator = MixtureDistribution('normal', 'uniform', modes, n_vars)\n",
    "\n",
    "        self.random_color = [(np.random.randint(0, 255), np.random.randint(0, 255), np.random.randint(0, 255)) for i in\n",
    "                        range(n_circles)]\n",
    "\n",
    "        self.random_size = [np.random.randint(0, round(size * 0.25)) for i in range(n_circles)]\n",
    "\n",
    "    def generate_samples(self, n_samples):\n",
    "\n",
    "        images = []\n",
    "\n",
    "        samples = self.generator.generate_samples(n_samples)\n",
    "        samples = (samples - np.min(samples, axis=0)) / (np.max(samples, axis=0) - np.min(samples, axis=0))\n",
    "\n",
    "        for i in range(n_samples):\n",
    "\n",
    "            this_image = np.ones((self.size, self.size, 3)) * 255\n",
    "            for k in range(self.circles):\n",
    "                sample = samples[i]\n",
    "\n",
    "                if self.has_random_colors and self.has_random_sizes:\n",
    "                    color = (\n",
    "                    int(self.size * sample[6 * k + 3]), int(self.size * sample[6 * k + 4]), int(self.size * sample[6 * k + 5]))\n",
    "                    circle_size = int(self.size * 0.25 * sample[6 * k + 2])\n",
    "                    location = (int(self.size * sample[6 * k]), int(self.size * sample[6 * k + 1])\n",
    "                    )\n",
    "\n",
    "                elif self.has_random_sizes:\n",
    "                    color = self.random_color[k]\n",
    "                    circle_size = int(self.size * 0.25 * sample[3 * k + 2])\n",
    "                    location = (int(self.size * sample[3 * k]), int(self.size * sample[3 * k + 1]))\n",
    "\n",
    "                elif self.has_random_colors:\n",
    "                    color = (\n",
    "                    int(self.size * sample[5 * k + 2]), int(self.size * sample[5 * k + 3]), int(self.size * sample[5 * k + 4]))\n",
    "                    circle_size = self.random_size[k]\n",
    "                    location = (int(self.size * sample[5 * k]), int(self.size * sample[5 * k + 1])\n",
    "                    )\n",
    "\n",
    "                else:\n",
    "                    color = self.random_color[k]\n",
    "                    circle_size = self.random_size[k]\n",
    "                    location = (int(self.size * sample[2 * k]), int(self.size * sample[2 * k + 1]))\n",
    "\n",
    "                cv.circle(this_image, location, circle_size, color, -1)\n",
    "            images.append(this_image)\n",
    "\n",
    "        return np.array(images).transpose((0,3,1,2))\n",
    "\n",
    "    def generate_samples_to_directory(self, n_samples, output_directory):\n",
    "\n",
    "        if output_directory:\n",
    "            if not os.path.exists(output_directory):\n",
    "                os.makedirs(output_directory)\n",
    "\n",
    "        samples = self.generator.generate_samples(n_samples)\n",
    "        samples = (samples - np.min(samples, axis=0)) / (np.max(samples, axis=0) - np.min(samples, axis=0))\n",
    "\n",
    "        for i in range(n_samples):\n",
    "\n",
    "            this_image = np.ones((self.size, self.size, 3)) * 255\n",
    "            for k in range(self.circles):\n",
    "                sample = samples[i]\n",
    "\n",
    "                if self.has_random_colors and self.has_random_sizes:\n",
    "                    color = (\n",
    "                        int(self.size * sample[6 * k + 3]), int(self.size * sample[6 * k + 4]),\n",
    "                        int(self.size * sample[6 * k + 5]))\n",
    "                    circle_size = int(self.size * 0.25 * sample[6 * k + 2])\n",
    "                    location = (int(self.size * sample[6 * k]), int(self.size * sample[6 * k + 1]))\n",
    "\n",
    "                elif self.has_random_sizes:\n",
    "                    color = self.random_color[k]\n",
    "                    circle_size = int(self.size * 0.25 * sample[3 * k + 2])\n",
    "                    location = (int(self.size * sample[3 * k]), int(self.size * sample[3 * k + 1]))\n",
    "\n",
    "                elif self.has_random_colors:\n",
    "                    color = (\n",
    "                        int(self.size * sample[5 * k + 2]), int(self.size * sample[5 * k + 3]),\n",
    "                        int(self.size * sample[5 * k + 4]))\n",
    "                    circle_size = self.random_size[k]\n",
    "                    location = (int(self.size * sample[5 * k]), int(self.size * sample[5 * k + 1]))\n",
    "\n",
    "                else:\n",
    "                    color = self.random_color[k]\n",
    "                    circle_size = self.random_size[k]\n",
    "                    location = (int(self.size * sample[2 * k]), int(self.size * sample[2 * k + 1]))\n",
    "\n",
    "                cv.circle(this_image, location, circle_size, color, -1)\n",
    "\n",
    "                cv.imwrite(os.path.join(output_directory, '%d.jpg' % (i)), this_image)\n",
    "\n",
    "    def save_generator(self, out_file):\n",
    "\n",
    "        with open(out_file, 'wb') as of:\n",
    "            pickle.dump(self, of, pickle.HIGHEST_PROTOCOL)\n"
   ]
  },
  {
   "cell_type": "code",
   "execution_count": 133,
   "metadata": {},
   "outputs": [],
   "source": [
    "generator = CirclesDatasetGenerator(size=28, n_circles=5, random_colors=True, random_sizes=True, modes=20)"
   ]
  },
  {
   "cell_type": "code",
   "execution_count": 134,
   "metadata": {},
   "outputs": [],
   "source": [
    "train_iter, val_iter, test_iter = preprocess(generator, samples, 100)"
   ]
  },
  {
   "cell_type": "code",
   "execution_count": 135,
   "metadata": {},
   "outputs": [],
   "source": [
    "batch, labels = next(iter(train_iter))"
   ]
  },
  {
   "cell_type": "code",
   "execution_count": 141,
   "metadata": {},
   "outputs": [
    {
     "data": {
      "text/plain": [
       "torch.Size([3, 28, 28])"
      ]
     },
     "execution_count": 141,
     "metadata": {},
     "output_type": "execute_result"
    }
   ],
   "source": [
    "img = batch[1].view((batch.shape[1], batch.shape[2], batch.shape[3]))\n",
    "img.shape"
   ]
  },
  {
   "cell_type": "code",
   "execution_count": 142,
   "metadata": {},
   "outputs": [
    {
     "data": {
      "text/plain": [
       "torch.Size([28, 28, 3])"
      ]
     },
     "execution_count": 142,
     "metadata": {},
     "output_type": "execute_result"
    }
   ],
   "source": [
    "img = img.transpose(0,2).long()\n",
    "img.shape"
   ]
  },
  {
   "cell_type": "code",
   "execution_count": 146,
   "metadata": {},
   "outputs": [
    {
     "data": {
      "text/plain": [
       "<matplotlib.image.AxesImage at 0x12412e518>"
      ]
     },
     "execution_count": 146,
     "metadata": {},
     "output_type": "execute_result"
    },
    {
     "data": {
      "image/png": "[encoded data removed]",
      "text/plain": [
       "<Figure size 432x288 with 1 Axes>"
      ]
     },
     "metadata": {},
     "output_type": "display_data"
    }
   ],
   "source": [
    "plt.imshow(img.numpy())"
   ]
  },
  {
   "cell_type": "code",
   "execution_count": 151,
   "metadata": {},
   "outputs": [
    {
     "data": {
      "image/png": "[encoded data removed]",
      "text/plain": [
       "<Figure size 360x360 with 100 Axes>"
      ]
     },
     "metadata": {},
     "output_type": "display_data"
    }
   ],
   "source": [
    "# Plot\n",
    "plt.close()\n",
    "size_figure_grid = int(batch.shape[0]**0.5)\n",
    "fig, ax = plt.subplots(size_figure_grid, size_figure_grid, figsize=(5, 5))\n",
    "for i, j in product(range(size_figure_grid), range(size_figure_grid)):\n",
    "    ax[i,j].get_xaxis().set_visible(False)\n",
    "    ax[i,j].get_yaxis().set_visible(False)\n",
    "    ax[i,j].cla()\n",
    "    image = batch[i+j].view((batch.shape[1], batch.shape[2], batch.shape[3]))\n",
    "    ax[i,j].imshow(image.transpose(0,2).long().numpy(), cmap='gray')\n",
    "    \n",
    "plt.show()"
   ]
  }
 ],
 "metadata": {
  "kernelspec": {
   "display_name": "Python 3",
   "language": "python",
   "name": "python3"
  },
  "language_info": {
   "codemirror_mode": {
    "name": "ipython",
    "version": 3
   },
   "file_extension": ".py",
   "mimetype": "text/x-python",
   "name": "python",
   "nbconvert_exporter": "python",
   "pygments_lexer": "ipython3",
   "version": "3.6.5"
  }
 },
 "nbformat": 4,
 "nbformat_minor": 2
}
