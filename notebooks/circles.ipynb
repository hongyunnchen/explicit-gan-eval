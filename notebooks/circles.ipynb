{
 "cells": [
  {
   "cell_type": "code",
   "execution_count": 1,
   "metadata": {},
   "outputs": [
    {
     "name": "stderr",
     "output_type": "stream",
     "text": [
      "/usr/local/Cellar/python/3.6.5/Frameworks/Python.framework/Versions/3.6/lib/python3.6/importlib/_bootstrap.py:219: RuntimeWarning: numpy.dtype size changed, may indicate binary incompatibility. Expected 96, got 88\n",
      "  return f(*args, **kwds)\n"
     ]
    }
   ],
   "source": [
    "import os, sys\n",
    "module_path = os.path.abspath(os.path.join('..'))\n",
    "sys.path.append(module_path)\n",
    "\n",
    "from data import CirclesDatasetGenerator\n",
    "from models.gan_utils import preprocess\n",
    "from data import *\n",
    "import matplotlib.pyplot as plt\n",
    "from itertools import product"
   ]
  },
  {
   "cell_type": "code",
   "execution_count": 2,
   "metadata": {},
   "outputs": [],
   "source": [
    "dimensions = 10\n",
    "samples = 100"
   ]
  },
  {
   "cell_type": "code",
   "execution_count": 3,
   "metadata": {},
   "outputs": [],
   "source": [
    "class CirclesDatasetGenerator:\n",
    "\n",
    "    def __init__(self, size=28, n_circles=1, modes=1, random_colors=True, random_sizes=True):\n",
    "\n",
    "        self.size = size\n",
    "        self.circles = n_circles\n",
    "        self.has_random_colors = random_colors\n",
    "        self.has_random_sizes = random_sizes\n",
    "        self.modes = modes\n",
    "\n",
    "        n_vars = n_circles * 2\n",
    "        if random_colors:\n",
    "            n_vars += n_circles * 3\n",
    "\n",
    "        if random_sizes:\n",
    "            n_vars += n_circles\n",
    "\n",
    "        self.generator = MixtureDistribution('normal', 'uniform', modes, n_vars)\n",
    "\n",
    "        self.random_color = [(np.random.randint(0, 255), np.random.randint(0, 255), np.random.randint(0, 255)) for i in\n",
    "                        range(n_circles)]\n",
    "\n",
    "        self.random_size = [np.random.randint(0, round(size * 0.25)) for i in range(n_circles)]\n",
    "\n",
    "    def generate_samples(self, n_samples):\n",
    "\n",
    "        images = []\n",
    "\n",
    "        samples = self.generator.generate_samples(n_samples)\n",
    "        samples = (samples - np.min(samples, axis=0)) / (np.max(samples, axis=0) - np.min(samples, axis=0))\n",
    "\n",
    "        for i in range(n_samples):\n",
    "\n",
    "            this_image = np.ones((self.size, self.size, 3)) * 255\n",
    "            for k in range(self.circles):\n",
    "                sample = samples[i]\n",
    "\n",
    "                if self.has_random_colors and self.has_random_sizes:\n",
    "                    color = (\n",
    "                    int(self.size * sample[6 * k + 3]), int(self.size * sample[6 * k + 4]), int(self.size * sample[6 * k + 5]))\n",
    "                    circle_size = int(self.size * 0.25 * sample[6 * k + 2])\n",
    "                    location = (int(self.size * sample[6 * k]), int(self.size * sample[6 * k + 1])\n",
    "                    )\n",
    "\n",
    "                elif self.has_random_sizes:\n",
    "                    color = self.random_color[k]\n",
    "                    circle_size = int(self.size * 0.25 * sample[3 * k + 2])\n",
    "                    location = (int(self.size * sample[3 * k]), int(self.size * sample[3 * k + 1]))\n",
    "\n",
    "                elif self.has_random_colors:\n",
    "                    color = (\n",
    "                    int(self.size * sample[5 * k + 2]), int(self.size * sample[5 * k + 3]), int(self.size * sample[5 * k + 4]))\n",
    "                    circle_size = self.random_size[k]\n",
    "                    location = (int(self.size * sample[5 * k]), int(self.size * sample[5 * k + 1])\n",
    "                    )\n",
    "\n",
    "                else:\n",
    "                    color = self.random_color[k]\n",
    "                    circle_size = self.random_size[k]\n",
    "                    location = (int(self.size * sample[2 * k]), int(self.size * sample[2 * k + 1]))\n",
    "\n",
    "                cv.circle(this_image, location, circle_size, color, -1)\n",
    "            images.append(this_image)\n",
    "\n",
    "        return np.array(images).transpose((0,3,1,2))\n",
    "\n",
    "    def generate_samples_to_directory(self, n_samples, output_directory):\n",
    "\n",
    "        if output_directory:\n",
    "            if not os.path.exists(output_directory):\n",
    "                os.makedirs(output_directory)\n",
    "\n",
    "        samples = self.generator.generate_samples(n_samples)\n",
    "        samples = (samples - np.min(samples, axis=0)) / (np.max(samples, axis=0) - np.min(samples, axis=0))\n",
    "\n",
    "        for i in range(n_samples):\n",
    "\n",
    "            this_image = np.ones((self.size, self.size, 3)) * 255\n",
    "            for k in range(self.circles):\n",
    "                sample = samples[i]\n",
    "\n",
    "                if self.has_random_colors and self.has_random_sizes:\n",
    "                    color = (\n",
    "                        int(self.size * sample[6 * k + 3]), int(self.size * sample[6 * k + 4]),\n",
    "                        int(self.size * sample[6 * k + 5]))\n",
    "                    circle_size = int(self.size * 0.25 * sample[6 * k + 2])\n",
    "                    location = (int(self.size * sample[6 * k]), int(self.size * sample[6 * k + 1]))\n",
    "\n",
    "                elif self.has_random_sizes:\n",
    "                    color = self.random_color[k]\n",
    "                    circle_size = int(self.size * 0.25 * sample[3 * k + 2])\n",
    "                    location = (int(self.size * sample[3 * k]), int(self.size * sample[3 * k + 1]))\n",
    "\n",
    "                elif self.has_random_colors:\n",
    "                    color = (\n",
    "                        int(self.size * sample[5 * k + 2]), int(self.size * sample[5 * k + 3]),\n",
    "                        int(self.size * sample[5 * k + 4]))\n",
    "                    circle_size = self.random_size[k]\n",
    "                    location = (int(self.size * sample[5 * k]), int(self.size * sample[5 * k + 1]))\n",
    "\n",
    "                else:\n",
    "                    color = self.random_color[k]\n",
    "                    circle_size = self.random_size[k]\n",
    "                    location = (int(self.size * sample[2 * k]), int(self.size * sample[2 * k + 1]))\n",
    "\n",
    "                cv.circle(this_image, location, circle_size, color, -1)\n",
    "\n",
    "                cv.imwrite(os.path.join(output_directory, '%d.jpg' % (i)), this_image)\n",
    "\n",
    "    def save_generator(self, out_file):\n",
    "\n",
    "        with open(out_file, 'wb') as of:\n",
    "            pickle.dump(self, of, pickle.HIGHEST_PROTOCOL)\n"
   ]
  },
  {
   "cell_type": "code",
   "execution_count": 4,
   "metadata": {},
   "outputs": [],
   "source": [
    "generator = CirclesDatasetGenerator(size=28, n_circles=5, random_colors=True, random_sizes=True, modes=20)"
   ]
  },
  {
   "cell_type": "code",
   "execution_count": 5,
   "metadata": {},
   "outputs": [],
   "source": [
    "train_iter, val_iter, test_iter = preprocess(generator, samples, 100)"
   ]
  },
  {
   "cell_type": "code",
   "execution_count": 6,
   "metadata": {},
   "outputs": [],
   "source": [
    "batch, labels = next(iter(train_iter))"
   ]
  },
  {
   "cell_type": "code",
   "execution_count": 7,
   "metadata": {},
   "outputs": [
    {
     "data": {
      "text/plain": [
       "torch.Size([3, 28, 28])"
      ]
     },
     "execution_count": 7,
     "metadata": {},
     "output_type": "execute_result"
    }
   ],
   "source": [
    "img = batch[1].view((batch.shape[1], batch.shape[2], batch.shape[3]))\n",
    "img.shape"
   ]
  },
  {
   "cell_type": "code",
   "execution_count": 8,
   "metadata": {},
   "outputs": [
    {
     "data": {
      "text/plain": [
       "torch.Size([28, 28, 3])"
      ]
     },
     "execution_count": 8,
     "metadata": {},
     "output_type": "execute_result"
    }
   ],
   "source": [
    "img = img.transpose(0,2).long()\n",
    "img.shape"
   ]
  },
  {
   "cell_type": "code",
   "execution_count": 24,
   "metadata": {},
   "outputs": [
    {
     "data": {
      "text/plain": [
       "<matplotlib.image.AxesImage at 0x12a358978>"
      ]
     },
     "execution_count": 24,
     "metadata": {},
     "output_type": "execute_result"
    },
    {
     "data": {
      "image/png": "[encoded data removed]",
      "text/plain": [
       "<Figure size 432x288 with 1 Axes>"
      ]
     },
     "metadata": {},
     "output_type": "display_data"
    }
   ],
   "source": [
    "plt.imshow(img.numpy()/255., cmap='Accent', vmin=0., vmax=1.)"
   ]
  },
  {
   "cell_type": "code",
   "execution_count": 65,
   "metadata": {},
   "outputs": [
    {
     "data": {
      "image/png": "[encoded data removed]",
      "text/plain": [
       "<Figure size 360x360 with 100 Axes>"
      ]
     },
     "metadata": {},
     "output_type": "display_data"
    }
   ],
   "source": [
    "# Plot\n",
    "k = 0\n",
    "plt.close()\n",
    "size_figure_grid = int(batch.shape[0]**0.5)\n",
    "fig, ax = plt.subplots(size_figure_grid, size_figure_grid, figsize=(5, 5))\n",
    "for i, j in product(range(size_figure_grid), range(size_figure_grid)):\n",
    "    ax[i,j].get_xaxis().set_visible(False)\n",
    "    ax[i,j].get_yaxis().set_visible(False)\n",
    "    image = batch[k].view((batch.shape[1], batch.shape[2], batch.shape[3]))\n",
    "    ax[i,j].imshow(image.transpose(0,2).long().numpy(), cmap='gray')\n",
    "    k += 1\n",
    "    \n",
    "plt.show()"
   ]
  },
  {
   "cell_type": "code",
   "execution_count": 58,
   "metadata": {},
   "outputs": [
    {
     "ename": "IndexError",
     "evalue": "index 100 is out of bounds for dimension 0 with size 100",
     "output_type": "error",
     "traceback": [
      "\u001b[0;31m---------------------------------------------------------------------------\u001b[0m",
      "\u001b[0;31mIndexError\u001b[0m                                Traceback (most recent call last)",
      "\u001b[0;32m<ipython-input-58-26dd2b26635b>\u001b[0m in \u001b[0;36m<module>\u001b[0;34m()\u001b[0m\n\u001b[0;32m----> 1\u001b[0;31m \u001b[0mbatch\u001b[0m\u001b[0;34m[\u001b[0m\u001b[0;36m100\u001b[0m\u001b[0;34m]\u001b[0m\u001b[0;34m.\u001b[0m\u001b[0mshape\u001b[0m\u001b[0;34m\u001b[0m\u001b[0m\n\u001b[0m",
      "\u001b[0;31mIndexError\u001b[0m: index 100 is out of bounds for dimension 0 with size 100"
     ]
    }
   ],
   "source": [
    "batch[100].shape"
   ]
  },
  {
   "cell_type": "code",
   "execution_count": 62,
   "metadata": {},
   "outputs": [
    {
     "name": "stdout",
     "output_type": "stream",
     "text": [
      "0 0 0\n",
      "0 1 1\n",
      "0 2 2\n",
      "0 3 3\n",
      "0 4 4\n",
      "0 5 5\n",
      "0 6 6\n",
      "0 7 7\n",
      "0 8 8\n",
      "0 9 9\n",
      "1 0 10\n",
      "1 1 11\n",
      "1 2 12\n",
      "1 3 13\n",
      "1 4 14\n",
      "1 5 15\n",
      "1 6 16\n",
      "1 7 17\n",
      "1 8 18\n",
      "1 9 19\n",
      "2 0 20\n",
      "2 1 21\n",
      "2 2 22\n",
      "2 3 23\n",
      "2 4 24\n",
      "2 5 25\n",
      "2 6 26\n",
      "2 7 27\n",
      "2 8 28\n",
      "2 9 29\n",
      "3 0 30\n",
      "3 1 31\n",
      "3 2 32\n",
      "3 3 33\n",
      "3 4 34\n",
      "3 5 35\n",
      "3 6 36\n",
      "3 7 37\n",
      "3 8 38\n",
      "3 9 39\n",
      "4 0 40\n",
      "4 1 41\n",
      "4 2 42\n",
      "4 3 43\n",
      "4 4 44\n",
      "4 5 45\n",
      "4 6 46\n",
      "4 7 47\n",
      "4 8 48\n",
      "4 9 49\n",
      "5 0 50\n",
      "5 1 51\n",
      "5 2 52\n",
      "5 3 53\n",
      "5 4 54\n",
      "5 5 55\n",
      "5 6 56\n",
      "5 7 57\n",
      "5 8 58\n",
      "5 9 59\n",
      "6 0 60\n",
      "6 1 61\n",
      "6 2 62\n",
      "6 3 63\n",
      "6 4 64\n",
      "6 5 65\n",
      "6 6 66\n",
      "6 7 67\n",
      "6 8 68\n",
      "6 9 69\n",
      "7 0 70\n",
      "7 1 71\n",
      "7 2 72\n",
      "7 3 73\n",
      "7 4 74\n",
      "7 5 75\n",
      "7 6 76\n",
      "7 7 77\n",
      "7 8 78\n",
      "7 9 79\n",
      "8 0 80\n",
      "8 1 81\n",
      "8 2 82\n",
      "8 3 83\n",
      "8 4 84\n",
      "8 5 85\n",
      "8 6 86\n",
      "8 7 87\n",
      "8 8 88\n",
      "8 9 89\n",
      "9 0 90\n",
      "9 1 91\n",
      "9 2 92\n",
      "9 3 93\n",
      "9 4 94\n",
      "9 5 95\n",
      "9 6 96\n",
      "9 7 97\n",
      "9 8 98\n",
      "9 9 99\n"
     ]
    }
   ],
   "source": [
    "k = 0\n",
    "for i, j in product(range(size_figure_grid), range(size_figure_grid)):\n",
    "    print(i, j, k)\n",
    "    k += 1"
   ]
  },
  {
   "cell_type": "code",
   "execution_count": null,
   "metadata": {},
   "outputs": [],
   "source": []
  },
  {
   "cell_type": "code",
   "execution_count": 35,
   "metadata": {},
   "outputs": [
    {
     "data": {
      "text/plain": [
       "torch.Size([100, 3, 28, 28])"
      ]
     },
     "execution_count": 35,
     "metadata": {},
     "output_type": "execute_result"
    }
   ],
   "source": [
    "batch.shape"
   ]
  }
 ],
 "metadata": {
  "kernelspec": {
   "display_name": "Python 3",
   "language": "python",
   "name": "python3"
  },
  "language_info": {
   "codemirror_mode": {
    "name": "ipython",
    "version": 3
   },
   "file_extension": ".py",
   "mimetype": "text/x-python",
   "name": "python",
   "nbconvert_exporter": "python",
   "pygments_lexer": "ipython3",
   "version": "3.6.5"
  }
 },
 "nbformat": 4,
 "nbformat_minor": 2
}
