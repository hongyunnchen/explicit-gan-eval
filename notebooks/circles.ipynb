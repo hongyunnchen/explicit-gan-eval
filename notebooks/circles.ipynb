{
 "cells": [
  {
   "cell_type": "code",
   "execution_count": 1,
   "metadata": {},
   "outputs": [
    {
     "name": "stderr",
     "output_type": "stream",
     "text": [
      "/usr/local/Cellar/python/3.6.5/Frameworks/Python.framework/Versions/3.6/lib/python3.6/importlib/_bootstrap.py:219: RuntimeWarning: numpy.dtype size changed, may indicate binary incompatibility. Expected 96, got 88\n",
      "  return f(*args, **kwds)\n"
     ]
    }
   ],
   "source": [
    "import os, sys\n",
    "module_path = os.path.abspath(os.path.join('..'))\n",
    "sys.path.append(module_path)\n",
    "\n",
    "from data import CirclesDatasetGenerator\n",
    "from models.model_utils import preprocess\n",
    "from data import *\n",
    "import matplotlib.pyplot as plt\n",
    "from itertools import product"
   ]
  },
  {
   "cell_type": "code",
   "execution_count": 2,
   "metadata": {},
   "outputs": [],
   "source": [
    "dimensions = 10\n",
    "samples = 100"
   ]
  },
  {
   "cell_type": "code",
   "execution_count": 275,
   "metadata": {},
   "outputs": [],
   "source": [
    "class CirclesDatasetGenerator:\n",
    "\n",
    "    def __init__(self, size=28, n_circles=1, modes=1, random_colors=True, random_sizes=True):\n",
    "\n",
    "        self.size = size\n",
    "        self.circles = n_circles\n",
    "        self.has_random_colors = random_colors\n",
    "        self.has_random_sizes = random_sizes\n",
    "        self.modes = modes\n",
    "\n",
    "        n_vars = n_circles * 2\n",
    "        if random_colors:\n",
    "            n_vars += n_circles * 3\n",
    "\n",
    "        if random_sizes:\n",
    "            n_vars += n_circles\n",
    "\n",
    "        self.generator = MixtureDistribution('normal', 'uniform', modes, n_vars)\n",
    "\n",
    "        self.random_color = [(np.random.randint(0, 255), np.random.randint(0, 255), np.random.randint(0, 255)) for i in\n",
    "                        range(n_circles)]\n",
    "\n",
    "        self.random_size = [np.random.randint(0, round(size * 0.25)) for i in range(n_circles)]\n",
    "\n",
    "    def generate_samples(self, n_samples):\n",
    "\n",
    "        images = []\n",
    "\n",
    "        samples = self.generator.generate_samples(n_samples)\n",
    "        samples = (samples - np.min(samples, axis=0)) / (np.max(samples, axis=0) - np.min(samples, axis=0))\n",
    "\n",
    "        for i in range(n_samples):\n",
    "\n",
    "            this_image = np.ones((self.size, self.size, 3)) * 255\n",
    "            for k in range(self.circles):\n",
    "                sample = samples[i]\n",
    "\n",
    "                if self.has_random_colors and self.has_random_sizes:\n",
    "                    color = (\n",
    "                    int(self.size * sample[6 * k + 3]), int(self.size * sample[6 * k + 4]), int(self.size * sample[6 * k + 5]))\n",
    "                    circle_size = int(self.size * 0.25 * sample[6 * k + 2])\n",
    "                    location = (int(self.size * sample[6 * k]), int(self.size * sample[6 * k + 1])\n",
    "                    )\n",
    "\n",
    "                elif self.has_random_sizes:\n",
    "                    color = self.random_color[k]\n",
    "                    circle_size = int(self.size * 0.25 * sample[3 * k + 2])\n",
    "                    location = (int(self.size * sample[3 * k]), int(self.size * sample[3 * k + 1]))\n",
    "\n",
    "                elif self.has_random_colors:\n",
    "                    color = (\n",
    "                    int(self.size * sample[5 * k + 2]), int(self.size * sample[5 * k + 3]), int(self.size * sample[5 * k + 4]))\n",
    "                    circle_size = self.random_size[k]\n",
    "                    location = (int(self.size * sample[5 * k]), int(self.size * sample[5 * k + 1])\n",
    "                    )\n",
    "\n",
    "                else:\n",
    "                    color = self.random_color[k]\n",
    "                    circle_size = self.random_size[k]\n",
    "                    location = (int(self.size * sample[2 * k]), int(self.size * sample[2 * k + 1]))\n",
    "\n",
    "                cv.circle(this_image, location, circle_size, color, -1)\n",
    "            images.append(this_image)\n",
    "\n",
    "        return np.array(images)/255.\n",
    "\n",
    "    def generate_samples_to_directory(self, n_samples, output_directory):\n",
    "\n",
    "        if output_directory:\n",
    "            if not os.path.exists(output_directory):\n",
    "                os.makedirs(output_directory)\n",
    "\n",
    "        samples = self.generator.generate_samples(n_samples)\n",
    "        samples = (samples - np.min(samples, axis=0)) / (np.max(samples, axis=0) - np.min(samples, axis=0))\n",
    "\n",
    "        for i in range(n_samples):\n",
    "\n",
    "            this_image = np.ones((self.size, self.size, 3)) * 255\n",
    "            for k in range(self.circles):\n",
    "                sample = samples[i]\n",
    "\n",
    "                if self.has_random_colors and self.has_random_sizes:\n",
    "                    color = (\n",
    "                        int(self.size * sample[6 * k + 3]), int(self.size * sample[6 * k + 4]),\n",
    "                        int(self.size * sample[6 * k + 5]))\n",
    "                    circle_size = int(self.size * 0.25 * sample[6 * k + 2])\n",
    "                    location = (int(self.size * sample[6 * k]), int(self.size * sample[6 * k + 1]))\n",
    "\n",
    "                elif self.has_random_sizes:\n",
    "                    color = self.random_color[k]\n",
    "                    circle_size = int(self.size * 0.25 * sample[3 * k + 2])\n",
    "                    location = (int(self.size * sample[3 * k]), int(self.size * sample[3 * k + 1]))\n",
    "\n",
    "                elif self.has_random_colors:\n",
    "                    color = (\n",
    "                        int(self.size * sample[5 * k + 2]), int(self.size * sample[5 * k + 3]),\n",
    "                        int(self.size * sample[5 * k + 4]))\n",
    "                    circle_size = self.random_size[k]\n",
    "                    location = (int(self.size * sample[5 * k]), int(self.size * sample[5 * k + 1]))\n",
    "\n",
    "                else:\n",
    "                    color = self.random_color[k]\n",
    "                    circle_size = self.random_size[k]\n",
    "                    location = (int(self.size * sample[2 * k]), int(self.size * sample[2 * k + 1]))\n",
    "\n",
    "                cv.circle(this_image, location, circle_size, color, -1)\n",
    "\n",
    "                cv.imwrite(os.path.join(output_directory, '%d.jpg' % (i)), this_image)\n",
    "\n",
    "    def save_generator(self, out_file):\n",
    "\n",
    "        with open(out_file, 'wb') as of:\n",
    "            pickle.dump(self, of, pickle.HIGHEST_PROTOCOL)"
   ]
  },
  {
   "cell_type": "code",
   "execution_count": 483,
   "metadata": {},
   "outputs": [],
   "source": [
    "samples, bsize = 100, 100\n",
    "generator = CirclesDatasetGenerator(size=28, n_circles=1, random_colors=False, random_sizes=True, modes=2)\n",
    "train_iter, val_iter, test_iter = preprocess(generator, samples, bsize)"
   ]
  },
  {
   "cell_type": "code",
   "execution_count": 484,
   "metadata": {},
   "outputs": [
    {
     "data": {
      "text/plain": [
       "torch.Size([100, 28, 28, 3])"
      ]
     },
     "execution_count": 484,
     "metadata": {},
     "output_type": "execute_result"
    }
   ],
   "source": [
    "# Raw output from iterators\n",
    "batch, labels = next(iter(train_iter))\n",
    "batch.shape"
   ]
  },
  {
   "cell_type": "code",
   "execution_count": 485,
   "metadata": {},
   "outputs": [
    {
     "data": {
      "text/plain": [
       "torch.Size([100, 2352])"
      ]
     },
     "execution_count": 485,
     "metadata": {},
     "output_type": "execute_result"
    }
   ],
   "source": [
    "# Shape after preprocessing for input into a FFNN\n",
    "batch.view(batch.shape[0], -1).shape"
   ]
  },
  {
   "cell_type": "code",
   "execution_count": 486,
   "metadata": {},
   "outputs": [
    {
     "data": {
      "text/plain": [
       "torch.Size([28, 28, 3])"
      ]
     },
     "execution_count": 486,
     "metadata": {},
     "output_type": "execute_result"
    }
   ],
   "source": [
    "# Shape of a single image\n",
    "img = batch[0]\n",
    "img.shape"
   ]
  },
  {
   "cell_type": "code",
   "execution_count": 487,
   "metadata": {},
   "outputs": [
    {
     "data": {
      "text/plain": [
       "<matplotlib.image.AxesImage at 0x12d967e80>"
      ]
     },
     "execution_count": 487,
     "metadata": {},
     "output_type": "execute_result"
    },
    {
     "data": {
      "image/png": "[encoded data removed]",
      "text/plain": [
       "<Figure size 432x288 with 1 Axes>"
      ]
     },
     "metadata": {},
     "output_type": "display_data"
    }
   ],
   "source": [
    "# Plot the image\n",
    "plt.imshow(img.squeeze().numpy(), interpolation='none')"
   ]
  },
  {
   "cell_type": "code",
   "execution_count": 448,
   "metadata": {},
   "outputs": [
    {
     "data": {
      "text/plain": [
       "<matplotlib.image.AxesImage at 0x129e09828>"
      ]
     },
     "execution_count": 448,
     "metadata": {},
     "output_type": "execute_result"
    },
    {
     "data": {
      "image/png": "[encoded data removed]",
      "text/plain": [
       "<Figure size 432x288 with 1 Axes>"
      ]
     },
     "metadata": {},
     "output_type": "display_data"
    }
   ],
   "source": [
    "# Plot one channel\n",
    "plt.imshow(img[:, :, 0:1].squeeze().numpy(), interpolation='none')"
   ]
  },
  {
   "cell_type": "code",
   "execution_count": 350,
   "metadata": {},
   "outputs": [
    {
     "data": {
      "image/png": "[encoded data removed]",
      "text/plain": [
       "<Figure size 360x360 with 100 Axes>"
      ]
     },
     "metadata": {},
     "output_type": "display_data"
    }
   ],
   "source": [
    "# Plot all images in a batch\n",
    "k = 0\n",
    "plt.close()\n",
    "size_figure_grid = int(batch.shape[0]**0.5)\n",
    "fig, ax = plt.subplots(size_figure_grid, size_figure_grid, figsize=(5, 5))\n",
    "for i, j in product(range(size_figure_grid), range(size_figure_grid)):\n",
    "    ax[i,j].get_xaxis().set_visible(False)\n",
    "    ax[i,j].get_yaxis().set_visible(False)\n",
    "    image = batch[k].view(28, 28, -1).squeeze().numpy()\n",
    "    ax[i,j].imshow(image, interpolation='none')\n",
    "    k += 1\n",
    "    \n",
    "plt.show()"
   ]
  },
  {
   "cell_type": "code",
   "execution_count": 351,
   "metadata": {},
   "outputs": [
    {
     "data": {
      "image/png": "[encoded data removed]",
      "text/plain": [
       "<Figure size 360x360 with 100 Axes>"
      ]
     },
     "metadata": {},
     "output_type": "display_data"
    }
   ],
   "source": [
    "# Plot all images in a batch\n",
    "batch, labels = next(iter(train_iter))\n",
    "k = 0\n",
    "plt.close()\n",
    "size_figure_grid = int(batch.shape[0]**0.5)\n",
    "fig, ax = plt.subplots(size_figure_grid, size_figure_grid, figsize=(5, 5))\n",
    "for i, j in product(range(size_figure_grid), range(size_figure_grid)):\n",
    "    ax[i,j].get_xaxis().set_visible(False)\n",
    "    ax[i,j].get_yaxis().set_visible(False)\n",
    "    image = batch[k].view(28, 28, -1).squeeze().numpy()\n",
    "    ax[i,j].imshow(image, interpolation='none')\n",
    "    k += 1\n",
    "    \n",
    "plt.show()"
   ]
  }
 ],
 "metadata": {
  "kernelspec": {
   "display_name": "Python 3",
   "language": "python",
   "name": "python3"
  },
  "language_info": {
   "codemirror_mode": {
    "name": "ipython",
    "version": 3
   },
   "file_extension": ".py",
   "mimetype": "text/x-python",
   "name": "python",
   "nbconvert_exporter": "python",
   "pygments_lexer": "ipython3",
   "version": "3.6.5"
  }
 },
 "nbformat": 4,
 "nbformat_minor": 2
}
