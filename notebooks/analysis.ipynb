{
 "cells": [
  {
   "cell_type": "code",
   "execution_count": 19,
   "metadata": {},
   "outputs": [],
   "source": [
    "import os, sys, json\n",
    "module_path = os.path.abspath(os.path.join('..'))\n",
    "sys.path.append(module_path)\n",
    "\n",
    "import matplotlib.pyplot as plt\n",
    "from collections import defaultdict"
   ]
  },
  {
   "cell_type": "code",
   "execution_count": 20,
   "metadata": {},
   "outputs": [],
   "source": [
    "distance_metrics = [\"KL-Divergence\", \"Jensen-Shannon\", \"Wasserstein-Distance\", \"Energy-Distance\"]"
   ]
  },
  {
   "cell_type": "code",
   "execution_count": 21,
   "metadata": {},
   "outputs": [],
   "source": [
    "models = {\n",
    "    \"wgan\": 'w_gan',\n",
    "    \"wgpgan\": 'w_gp_gan',\n",
    "    \"nsgan\": 'ns_gan',\n",
    "    \"lsgan\": 'ls_gan',\n",
    "    \"mmgan\": 'mm_gan',\n",
    "    \"dragan\": 'dra_gan',\n",
    "    \"began\": 'be_gan',\n",
    "    \"ragan\": 'ra_gan',\n",
    "    \"infogan\": 'info_gan',\n",
    "    \"fishergan\": 'fisher_gan',\n",
    "    \"fgan_forward_kl\": 'forkl_gan',\n",
    "    \"fgan_reverse_kl\": 'revkl_gan',\n",
    "    \"fgan_jensen_shannon\": 'js_gan',\n",
    "    \"fgan_total_var\": 'tv_gan',\n",
    "    \"fgan_hellinger\": 'hellinger_gan',\n",
    "    \"fgan_pearson\": 'pearson_gan',\n",
    "    \"vae\": 'vae',\n",
    "    \"autoencoder\": 'ae',\n",
    "}"
   ]
  },
  {
   "cell_type": "code",
   "execution_count": 55,
   "metadata": {},
   "outputs": [],
   "source": [
    "def get_best_performance_multivariate(data_type, start_time, trial):\n",
    "    # Get path, files in path\n",
    "    mypath = \"/Users/sob/github/gans6883/hypertuning/{0}/{1}/trial_{2}\".format(data_type, start_time, trial)\n",
    "    files = [f for f in os.listdir(mypath) if os.path.isfile(os.path.join(mypath, f))]\n",
    "    results = []\n",
    "    \n",
    "    # Read in the files\n",
    "    for file in files:\n",
    "        with open(\"{}/{}\".format(mypath, file)) as f:\n",
    "            data = json.load(f)\n",
    "        results.append(data)\n",
    "    \n",
    "    # Initialize best dictionary\n",
    "    optimal = nested_pickle_dict()\n",
    "    \n",
    "    # Go through all models, distributionss, metrics, and record the best\n",
    "    for result in results:\n",
    "        for model, distributions in result.items():\n",
    "            for distribution, metrics in distributions.items():\n",
    "                for metric, values in metrics.items():\n",
    "                    if metric not in [\"LR\", \"HDIM\", \"BSIZE\"]:\n",
    "                        \n",
    "                        # If metric is seen for the first time, it is the best\n",
    "                        if metric not in optimal[model][distribution]:\n",
    "                            optimal[model][distribution][metric][\"value\"] = values\n",
    "                            optimal[model][distribution][metric][\"parameters\"] = [metrics[\"LR\"], metrics[\"HDIM\"], metrics[\"BSIZE\"]]\n",
    "                        \n",
    "                        # Otherwise, compare it the presently considered value\n",
    "                        elif optimal[model][distribution][metric][\"value\"][-1] > values[-1]:\n",
    "                            optimal[model][distribution][metric][\"value\"] = values\n",
    "                            optimal[model][distribution][metric][\"parameters\"] = [metrics[\"LR\"], metrics[\"HDIM\"], metrics[\"BSIZE\"]]\n",
    "\n",
    "    return optimal"
   ]
  },
  {
   "cell_type": "code",
   "execution_count": 56,
   "metadata": {},
   "outputs": [],
   "source": [
    "def get_best_performance_mixture(data_type, start_time, trial):\n",
    "    \"\"\" For a trial, get the best performance for a mixture model \"\"\"\n",
    "    # Get path, files in path\n",
    "    mypath = \"/Users/sob/github/gans6883/hypertuning/{0}/{1}/trial_{2}\".format(data_type, start_time, trial)\n",
    "    files = [f for f in os.listdir(mypath) if os.path.isfile(os.path.join(mypath, f))]\n",
    "    results = []\n",
    "    \n",
    "    # Read in the files\n",
    "    for file in files:\n",
    "        with open(\"{}/{}\".format(mypath, file)) as f:\n",
    "            data = json.load(f)\n",
    "        results.append(data)\n",
    "    \n",
    "    # Initialize best dictionary\n",
    "    optimal = nested_pickle_dict()\n",
    "    for result in results:\n",
    "        for model, mixtures in result.items():\n",
    "            for mixture, distributions in mixtures.items():\n",
    "                for distribution, metrics in distributions.items():\n",
    "                    for metric, values in metrics.items():\n",
    "                        if metric not in [\"LR\", \"HDIM\", \"BSIZE\"]:\n",
    "                            \n",
    "                            # If metric is seen for the first time, it is the best\n",
    "                            if metric not in optimal[model][mixture][distribution]:\n",
    "                                optimal[model][mixture][distribution][metric][\"value\"] = values\n",
    "                                optimal[model][mixture][distribution][metric][\"parameters\"] = [metrics[\"LR\"], metrics[\"HDIM\"], metrics[\"BSIZE\"]]\n",
    "\n",
    "                            # Otherwise, compare it the presently considered value\n",
    "                            elif optimal[model][mixture][distribution][metric][\"value\"][-1] > values[-1]:\n",
    "                                optimal[model][mixture][distribution][metric][\"value\"] = values\n",
    "                                optimal[model][mixture][distribution][metric][\"parameters\"] = [metrics[\"LR\"], metrics[\"HDIM\"], metrics[\"BSIZE\"]]\n",
    "\n",
    "    return optimal"
   ]
  },
  {
   "cell_type": "code",
   "execution_count": null,
   "metadata": {},
   "outputs": [],
   "source": [
    "def get_confidence_intervals_multivariate(data_type, start_time, trial):\n",
    "    \"\"\" Compute 95% confidence intervals for multivariate \"\"\"\n",
    "    mypath = \"best/{}\".format(data_type)\n",
    "    files = [f for f in os.listdir(mypath) if os.path.isfile(os.path.join(mypath, f))]\n",
    "    results = []\n",
    "    for file in files:\n",
    "        with open(\"{}/{}\".format(mypath, file)) as f:\n",
    "            data = json.load(f)\n",
    "        results.append(data)\n",
    "\n",
    "    optimal = {}\n",
    "    for result in results:\n",
    "        for gan, distributions in result.items():\n",
    "            if gan not in optimal:\n",
    "                optimal[gan] = {}\n",
    "            for distribution, metrics in distributions.items():\n",
    "                if distribution not in optimal[gan]:\n",
    "                    optimal[gan][distribution] = {}\n",
    "                for metric, values in metrics.items():\n",
    "                    if metric not in optimal[gan][distribution]:\n",
    "                        optimal[gan][distribution][metric] = {\"original\": []}\n",
    "                    optimal[gan][distribution][metric][\"original\"].append(values['value'])\n",
    "\n",
    "    for result in results:\n",
    "        for gan, distributions in result.items():\n",
    "            for distribution, metrics in distributions.items():\n",
    "                for metric, values in metrics.items():\n",
    "                    data = np.array(optimal[gan][distribution][metric][\"original\"])\n",
    "                    optimal[gan][distribution][metric]['5'] = list(np.percentile(data, 5, axis=0))\n",
    "                    optimal[gan][distribution][metric]['95'] = list(np.percentile(data, 95, axis=0))\n",
    "\n",
    "    return optimal"
   ]
  },
  {
   "cell_type": "code",
   "execution_count": 58,
   "metadata": {},
   "outputs": [],
   "source": [
    "optimal = get_best_performance_multivariate('multivariate', '2018-09-21-1537557860', '1')"
   ]
  },
  {
   "cell_type": "code",
   "execution_count": 60,
   "metadata": {},
   "outputs": [],
   "source": [
    "optim = get_best_performance_mixture('mixture', '2018-09-21-1537559182', '1')"
   ]
  },
  {
   "cell_type": "code",
   "execution_count": 64,
   "metadata": {},
   "outputs": [
    {
     "data": {
      "text/plain": [
       "dict_keys(['wgan', 'wgpgan'])"
      ]
     },
     "execution_count": 64,
     "metadata": {},
     "output_type": "execute_result"
    }
   ],
   "source": [
    "optim.keys()"
   ]
  },
  {
   "cell_type": "code",
   "execution_count": 16,
   "metadata": {},
   "outputs": [],
   "source": [
    "def nested_pickle_dict():\n",
    "    \"\"\" Picklable defaultdict nested dictionaries \"\"\"\n",
    "    return defaultdict(nested_pickle_dict)"
   ]
  },
  {
   "cell_type": "code",
   "execution_count": null,
   "metadata": {},
   "outputs": [],
   "source": []
  },
  {
   "cell_type": "code",
   "execution_count": 146,
   "metadata": {},
   "outputs": [
    {
     "name": "stdout",
     "output_type": "stream",
     "text": [
      "results_0_2018-09-10.json\n",
      "False\n",
      "results_10_2018-09-15.json\n",
      "True\n",
      "results_11_2018-09-16.json\n",
      "True\n",
      "results_12_2018-09-16.json\n",
      "True\n",
      "results_13_2018-09-16.json\n",
      "True\n",
      "results_14_2018-09-16.json\n",
      "True\n",
      "results_15_2018-09-17.json\n",
      "True\n",
      "results_16_2018-09-17.json\n",
      "True\n",
      "results_17_2018-09-17.json\n",
      "True\n",
      "results_18_2018-09-18.json\n",
      "True\n",
      "results_19_2018-09-18.json\n",
      "True\n",
      "results_1_2018-09-11.json\n",
      "True\n",
      "results_2_2018-09-11.json\n",
      "True\n",
      "results_3_2018-09-12.json\n",
      "True\n",
      "results_4_2018-09-12.json\n",
      "True\n",
      "results_5_2018-09-13.json\n",
      "True\n",
      "results_6_2018-09-13.json\n",
      "True\n",
      "results_7_2018-09-13.json\n",
      "True\n",
      "results_8_2018-09-14.json\n",
      "True\n",
      "results_9_2018-09-14.json\n",
      "True\n"
     ]
    }
   ],
   "source": [
    "# # def get_confidence_intervals_multivariate(data_type):\n",
    "# mypath = \"/Users/sob/Desktop/mnist_best/\"\n",
    "# files = [f for f in os.listdir(mypath) if os.path.isfile(os.path.join(mypath, f))]\n",
    "# results = []\n",
    "# for file in files:\n",
    "#     print(file)\n",
    "#     with open(\"{}/{}\".format(mypath, file)) as f:\n",
    "#         data = json.load(f)\n",
    "#     results.append(data)\n",
    "#     data2 = data\n",
    "\n",
    "# # optimal = nested_pickle_dict()\n",
    "# # for result in results:\n",
    "# #     for model, distributions in result.items():\n",
    "# #         for dist, metrics in distributions.items():\n",
    "# #             for metric, values in metrics.items():\n",
    "# #                 if metric not in optimal[model][distribution]:\n",
    "# #                     optimal[model][dist][metric] = {\"original\": []}\n",
    "# #                 optimal[model][dist][metric][\"original\"].append(values['value'])\n",
    "\n",
    "# # for result in results:\n",
    "# #     for model, distributions in result.items():\n",
    "# #         for distribution, metrics in distributions.items():\n",
    "# #             for metric, values in metrics.items():\n",
    "# #                 data = np.array(optimal[gan][distribution][metric][\"original\"])\n",
    "# #                 optimal[gan][distribution][metric]['5'] = list(np.percentile(data, 5, axis=0))\n",
    "# #                 optimal[gan][distribution][metric]['95'] = list(np.percentile(data, 95, axis=0))\n",
    "\n",
    "# # #     return optimal"
   ]
  }
 ],
 "metadata": {
  "kernelspec": {
   "display_name": "Python 3",
   "language": "python",
   "name": "python3"
  },
  "language_info": {
   "codemirror_mode": {
    "name": "ipython",
    "version": 3
   },
   "file_extension": ".py",
   "mimetype": "text/x-python",
   "name": "python",
   "nbconvert_exporter": "python",
   "pygments_lexer": "ipython3",
   "version": "3.6.5"
  }
 },
 "nbformat": 4,
 "nbformat_minor": 2
}
