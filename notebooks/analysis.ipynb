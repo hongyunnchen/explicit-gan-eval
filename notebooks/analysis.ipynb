{
 "cells": [
  {
   "cell_type": "code",
   "execution_count": 227,
   "metadata": {},
   "outputs": [],
   "source": [
    "import os, sys, json\n",
    "module_path = os.path.abspath(os.path.join('..'))\n",
    "sys.path.append(module_path)\n",
    "\n",
    "import matplotlib.pyplot as plt\n",
    "from collections import defaultdict"
   ]
  },
  {
   "cell_type": "code",
   "execution_count": 20,
   "metadata": {},
   "outputs": [],
   "source": [
    "distance_metrics = [\"KL-Divergence\", \"Jensen-Shannon\", \"Wasserstein-Distance\", \"Energy-Distance\"]"
   ]
  },
  {
   "cell_type": "code",
   "execution_count": 21,
   "metadata": {},
   "outputs": [],
   "source": [
    "models = {\n",
    "    \"wgan\": 'w_gan',\n",
    "    \"wgpgan\": 'w_gp_gan',\n",
    "    \"nsgan\": 'ns_gan',\n",
    "    \"lsgan\": 'ls_gan',\n",
    "    \"mmgan\": 'mm_gan',\n",
    "    \"dragan\": 'dra_gan',\n",
    "    \"began\": 'be_gan',\n",
    "    \"ragan\": 'ra_gan',\n",
    "    \"infogan\": 'info_gan',\n",
    "    \"fishergan\": 'fisher_gan',\n",
    "    \"fgan_forward_kl\": 'forkl_gan',\n",
    "    \"fgan_reverse_kl\": 'revkl_gan',\n",
    "    \"fgan_jensen_shannon\": 'js_gan',\n",
    "    \"fgan_total_var\": 'tv_gan',\n",
    "    \"fgan_hellinger\": 'hellinger_gan',\n",
    "    \"fgan_pearson\": 'pearson_gan',\n",
    "    \"vae\": 'vae',\n",
    "    \"autoencoder\": 'ae',\n",
    "}"
   ]
  }
 ],
 "metadata": {
  "kernelspec": {
   "display_name": "Python 3",
   "language": "python",
   "name": "python3"
  },
  "language_info": {
   "codemirror_mode": {
    "name": "ipython",
    "version": 3
   },
   "file_extension": ".py",
   "mimetype": "text/x-python",
   "name": "python",
   "nbconvert_exporter": "python",
   "pygments_lexer": "ipython3",
   "version": "3.6.5"
  }
 },
 "nbformat": 4,
 "nbformat_minor": 2
}
