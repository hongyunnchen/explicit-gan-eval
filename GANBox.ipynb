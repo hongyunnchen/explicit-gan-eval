{
 "cells": [
  {
   "cell_type": "code",
   "execution_count": 1,
   "metadata": {
    "collapsed": true
   },
   "outputs": [],
   "source": [
    "import data\n",
    "import torch\n",
    "import torch.utils.data\n",
    "import numpy as np\n",
    "import gans.w_gan as wgan\n",
    "import gans.w_gp_gan as wgpgan\n",
    "import gans.vae as vae\n",
    "import gans.ns_gan as nsgan\n",
    "import gans.mm_gan as mmgan\n",
    "import gans.ls_gan as lsgan\n",
    "import gans.dra_gan as dragan\n",
    "import gans.be_gan as began\n",
    "from gans.load_data import get_data"
   ]
  },
  {
   "cell_type": "code",
   "execution_count": 2,
   "metadata": {
    "collapsed": true
   },
   "outputs": [],
   "source": [
    "i = 0\n",
    "j = 0"
   ]
  },
  {
   "cell_type": "markdown",
   "metadata": {},
   "source": [
    "# Multivariate Distributions"
   ]
  },
  {
   "cell_type": "code",
   "execution_count": 3,
   "metadata": {
    "collapsed": true
   },
   "outputs": [],
   "source": [
    "distributions = ['normal', 'beta', 'exponential', 'gamma', 'gumbel', 'laplace']\n",
    "generator = data.Distribution(distributions[i], 200)\n",
    "data_train = generator.generate_samples(50000)\n",
    "data_test = generator.generate_samples(20000)\n",
    "# generator.save_dist('output_file.pickle')  # Saving the generator"
   ]
  },
  {
   "cell_type": "markdown",
   "metadata": {},
   "source": [
    "# Mixture Models"
   ]
  },
  {
   "cell_type": "code",
   "execution_count": 4,
   "metadata": {
    "collapsed": true
   },
   "outputs": [],
   "source": [
    "distributions = ['normal', 'beta', 'exponential', 'gamma', 'gumbel', 'laplace']\n",
    "pdfs = ['uniform', 'random']\n",
    "generator = data.MixtureDistribution(distributions[i], distributions[j], n_mixtures=15, dim=200)\n",
    "data_train = generator.generate_samples(50000)\n",
    "data_test = generator.generate_samples(20000)\n",
    "# generator.get_log_likelihood(data_train)\n",
    "# generator.save_dist()"
   ]
  },
  {
   "cell_type": "markdown",
   "metadata": {},
   "source": [
    "# Circles"
   ]
  },
  {
   "cell_type": "code",
   "execution_count": 5,
   "metadata": {},
   "outputs": [
    {
     "name": "stdout",
     "output_type": "stream",
     "text": [
      "10000\n",
      "(256, 256, 3)\n"
     ]
    }
   ],
   "source": [
    "generator = data.CirclesDatasetGenerator(size=256, n_circles=4, random_colors=True, random_sizes=True, modes=20)\n",
    "x = generator.generate_samples(10000)\n",
    "print(len(x))\n",
    "print(x[0].shape)\n",
    "# generator.generate_samples_to_directory(5000, './dataset_1')\n",
    "# generator.save_generator('./generator1.pickle')"
   ]
  },
  {
   "cell_type": "markdown",
   "metadata": {},
   "source": [
    "# Piping to the GANs"
   ]
  },
  {
   "cell_type": "code",
   "execution_count": 6,
   "metadata": {
    "collapsed": true
   },
   "outputs": [],
   "source": [
    "i = 0\n",
    "distributions = ['normal', 'beta', 'exponential', 'gamma', 'gumbel', 'laplace']\n",
    "generator = data.Distribution(distributions[i], 200)\n",
    "data_train = generator.generate_samples(50000)\n",
    "data_test = generator.generate_samples(20000)"
   ]
  },
  {
   "cell_type": "code",
   "execution_count": 7,
   "metadata": {
    "collapsed": true
   },
   "outputs": [],
   "source": [
    "x_torch = torch.from_numpy(data_train)"
   ]
  },
  {
   "cell_type": "code",
   "execution_count": 8,
   "metadata": {},
   "outputs": [
    {
     "ename": "TypeError",
     "evalue": "__init__() missing 1 required positional argument: 'target_tensor'",
     "output_type": "error",
     "traceback": [
      "\u001b[0;31m---------------------------------------------------------------------------\u001b[0m",
      "\u001b[0;31mTypeError\u001b[0m                                 Traceback (most recent call last)",
      "\u001b[0;32m<ipython-input-8-0d32a5bfcea1>\u001b[0m in \u001b[0;36m<module>\u001b[0;34m()\u001b[0m\n\u001b[0;32m----> 1\u001b[0;31m \u001b[0mdataset\u001b[0m \u001b[0;34m=\u001b[0m \u001b[0mtorch\u001b[0m\u001b[0;34m.\u001b[0m\u001b[0mutils\u001b[0m\u001b[0;34m.\u001b[0m\u001b[0mdata\u001b[0m\u001b[0;34m.\u001b[0m\u001b[0mTensorDataset\u001b[0m\u001b[0;34m(\u001b[0m\u001b[0mx_torch\u001b[0m\u001b[0;34m)\u001b[0m\u001b[0;34m\u001b[0m\u001b[0m\n\u001b[0m",
      "\u001b[0;31mTypeError\u001b[0m: __init__() missing 1 required positional argument: 'target_tensor'"
     ]
    }
   ],
   "source": [
    "dataset = torch.utils.data.TensorDataset(x_torch)"
   ]
  },
  {
   "cell_type": "code",
   "execution_count": 9,
   "metadata": {
    "collapsed": true
   },
   "outputs": [],
   "source": [
    "# Test on MNIST\n",
    "train_iter, val_iter, test_iter = get_data()"
   ]
  },
  {
   "cell_type": "markdown",
   "metadata": {},
   "source": [
    "# WGAN"
   ]
  },
  {
   "cell_type": "code",
   "execution_count": null,
   "metadata": {},
   "outputs": [],
   "source": [
    "model = wgan.WGAN(image_size = 784, hidden_dim = 256, z_dim = 128)\n",
    "if torch.cuda.is_available():\n",
    "    model = model.cuda()\n",
    "trainer = wgan.Trainer(train_iter, val_iter, test_iter)\n",
    "model = trainer.train(model = model, num_epochs = 2, G_lr = 5e-5, D_lr = 5e-5, D_steps = 5, clip = 0.01)"
   ]
  },
  {
   "cell_type": "markdown",
   "metadata": {},
   "source": [
    "# WGAN GP"
   ]
  },
  {
   "cell_type": "code",
   "execution_count": null,
   "metadata": {},
   "outputs": [],
   "source": [
    "model = wgpgan.WGANGP(image_size = 784, hidden_dim = 256, z_dim = 128) \n",
    "if torch.cuda.is_available():\n",
    "    model = model.cuda()\n",
    "trainer = wgpgan.Trainer(train_iter, val_iter, test_iter)\n",
    "model = trainer.train(model = model, num_epochs = 25, G_lr = 1e-4, D_lr = 1e-4, D_steps = 5)"
   ]
  },
  {
   "cell_type": "markdown",
   "metadata": {},
   "source": [
    "# VAE"
   ]
  },
  {
   "cell_type": "code",
   "execution_count": null,
   "metadata": {},
   "outputs": [],
   "source": [
    "model = vae.VAE(image_size = 784, hidden_dim = 400, z_dim = 20)\n",
    "if torch.cuda.is_available():\n",
    "    model.cuda()\n",
    "trainer = vae.Trainer(train_iter, val_iter, test_iter)\n",
    "model = trainer.train(model, 40)\n",
    "\n",
    "# Explore latent space\n",
    "viz = Viz(model)\n",
    "viz.make_all()"
   ]
  },
  {
   "cell_type": "markdown",
   "metadata": {},
   "source": [
    "# NS GAN"
   ]
  },
  {
   "cell_type": "code",
   "execution_count": null,
   "metadata": {},
   "outputs": [],
   "source": [
    "model = nsgan.NSGAN(image_size = 784, hidden_dim = 256, z_dim = 128)\n",
    "if torch.cuda.is_available():\n",
    "    model = model.cuda()\n",
    "trainer = nsgan.Trainer(train_iter, val_iter, test_iter)\n",
    "model = trainer.train(model = model, num_epochs = 25, G_lr = 2e-4, D_lr = 2e-4, D_steps = 1)"
   ]
  },
  {
   "cell_type": "markdown",
   "metadata": {},
   "source": [
    "# MM GAN"
   ]
  },
  {
   "cell_type": "code",
   "execution_count": null,
   "metadata": {},
   "outputs": [],
   "source": [
    "model = mmgan.MMGAN(image_size = 784, hidden_dim = 400, z_dim = 100)\n",
    "if torch.cuda.is_available():\n",
    "    model = model.cuda()\n",
    "trainer = mmgan.Trainer(train_iter, val_iter, test_iter)\n",
    "model = trainer.train(model = model, num_epochs = 25, G_lr = 2e-4, D_lr = 2e-4, G_init = 5, D_steps = 1)"
   ]
  },
  {
   "cell_type": "markdown",
   "metadata": {},
   "source": [
    "# LS GAN"
   ]
  },
  {
   "cell_type": "code",
   "execution_count": null,
   "metadata": {},
   "outputs": [],
   "source": [
    "model = lsgan.LSGAN(image_size = 784, hidden_dim = 256, z_dim = 128)\n",
    "if torch.cuda.is_available():\n",
    "    model = model.cuda()\n",
    "trainer = lsgan.Trainer(train_iter, val_iter, test_iter)\n",
    "model = trainer.train(model = model, num_epochs = 25, G_lr = 1e-4, D_lr = 1e-4, D_steps = 1)"
   ]
  },
  {
   "cell_type": "markdown",
   "metadata": {},
   "source": [
    "# DRA GAN"
   ]
  },
  {
   "cell_type": "code",
   "execution_count": null,
   "metadata": {},
   "outputs": [],
   "source": [
    "model = dragan.DRAGAN(image_size = 784, hidden_dim = 256, z_dim = 128)\n",
    "if torch.cuda.is_available():\n",
    "    model = model.cuda()\n",
    "trainer = dragan.Trainer(train_iter, val_iter, test_iter)\n",
    "model = trainer.train(model = model, num_epochs = 25, G_lr = 1e-4, D_lr = 1e-4, D_steps = 1)"
   ]
  },
  {
   "cell_type": "markdown",
   "metadata": {},
   "source": [
    "# BE GAN"
   ]
  },
  {
   "cell_type": "code",
   "execution_count": null,
   "metadata": {},
   "outputs": [],
   "source": [
    "model = began.BEGAN(image_size = 784, hidden_dim = 256, z_dim = 128)\n",
    "if torch.cuda.is_available():\n",
    "    model = model.cuda()\n",
    "trainer = began.Trainer(train_iter, val_iter, test_iter)\n",
    "model = trainer.train(model = model, num_epochs = 100, G_lr = 1e-4, D_lr = 1e-4, D_steps = 1)"
   ]
  }
 ],
 "metadata": {
  "kernelspec": {
   "display_name": "Python 3",
   "language": "python",
   "name": "python3"
  },
  "language_info": {
   "codemirror_mode": {
    "name": "ipython",
    "version": 3
   },
   "file_extension": ".py",
   "mimetype": "text/x-python",
   "name": "python",
   "nbconvert_exporter": "python",
   "pygments_lexer": "ipython3",
   "version": "3.6.3"
  }
 },
 "nbformat": 4,
 "nbformat_minor": 2
}
