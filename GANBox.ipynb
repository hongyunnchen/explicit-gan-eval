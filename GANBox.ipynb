{
 "cells": [
  {
   "cell_type": "code",
   "execution_count": 1,
   "metadata": {
    "collapsed": true
   },
   "outputs": [],
   "source": [
    "import data\n",
    "import torch\n",
    "from torch.utils.data import TensorDataset\n",
    "import numpy as np\n",
    "from scipy.stats import entropy, ks_2samp, moment\n",
    "from scipy import stats\n",
    "\n",
    "import matplotlib.pyplot as plt\n",
    "\n",
    "%matplotlib inline\n",
    "\n",
    "import pandas as pd\n",
    "import gans.w_gan as wgan\n",
    "import gans.w_gp_gan as wgpgan\n",
    "import gans.vae as vae\n",
    "import gans.ns_gan as nsgan\n",
    "import gans.mm_gan as mmgan\n",
    "import gans.ls_gan as lsgan\n",
    "import gans.dra_gan as dragan\n",
    "import gans.be_gan as began\n",
    "from gans.load_data import get_data\n",
    "from gans.utils import to_var"
   ]
  },
  {
   "cell_type": "code",
   "execution_count": 2,
   "metadata": {
    "collapsed": true
   },
   "outputs": [],
   "source": [
    "n=1\n",
    "size=200\n",
    "i = 0\n",
    "j = 0\n",
    "distributions = ['normal', 'beta', 'exponential', 'gamma', 'gumbel', 'laplace']\n",
    "pdfs = ['uniform', 'random']"
   ]
  },
  {
   "cell_type": "code",
   "execution_count": 3,
   "metadata": {},
   "outputs": [
    {
     "data": {
      "text/plain": [
       "array([ 1.07798869,  0.48027856,  0.76042847,  3.82580822,  3.16853426])"
      ]
     },
     "execution_count": 3,
     "metadata": {},
     "output_type": "execute_result"
    }
   ],
   "source": [
    "generator = data.Distribution(distributions[i], size) \n",
    "moment(generator.generate_samples(500).T, moment=2)[0:5]"
   ]
  },
  {
   "cell_type": "code",
   "execution_count": 4,
   "metadata": {
    "collapsed": true
   },
   "outputs": [],
   "source": [
    "def get_pdf(data):\n",
    "    x = []\n",
    "    for i in range(data.shape[0]):\n",
    "        x.append(list(np.histogram(data[i], bins=100, density=True)[0]))\n",
    "    df = pd.DataFrame(x)\n",
    "    pdf = list(df.mean(axis=0))\n",
    "    return pdf\n",
    "\n",
    "\n",
    "def preprocess(generator, samples, BATCH_SIZE = 100):\n",
    "    data_train = torch.from_numpy(generator.generate_samples(samples)).float()\n",
    "    data_val = torch.from_numpy(generator.generate_samples(samples)).float()\n",
    "    data_test = torch.from_numpy(generator.generate_samples(samples)).float()\n",
    "    labels_train = torch.from_numpy(np.zeros((samples,1)))\n",
    "    train = TensorDataset(data_train, labels_train)\n",
    "    val =TensorDataset(data_val, labels_train)\n",
    "    test = TensorDataset(data_test, labels_train)\n",
    "    train_iter = torch.utils.data.DataLoader(train, batch_size=BATCH_SIZE, shuffle=True)\n",
    "    val_iter = torch.utils.data.DataLoader(val, batch_size=BATCH_SIZE, shuffle=True)\n",
    "    test_iter = torch.utils.data.DataLoader(test, batch_size=BATCH_SIZE, shuffle=True)\n",
    "    return train_iter, val_iter, test_iter"
   ]
  },
  {
   "cell_type": "markdown",
   "metadata": {},
   "source": [
    "# Multivariate Distributions Example"
   ]
  },
  {
   "cell_type": "code",
   "execution_count": null,
   "metadata": {
    "collapsed": true
   },
   "outputs": [],
   "source": [
    "# generator = data.Distribution(distributions[i], 200)\n",
    "# generator.save_dist('output_file.pickle')  # Saving the generator"
   ]
  },
  {
   "cell_type": "markdown",
   "metadata": {},
   "source": [
    "# Mixture Models Example"
   ]
  },
  {
   "cell_type": "code",
   "execution_count": null,
   "metadata": {
    "collapsed": true
   },
   "outputs": [],
   "source": [
    "# generator = data.MixtureDistribution(distributions[i], distributions[j], n_mixtures=15, dim=200)\n",
    "# generator.get_log_likelihood(data_train)\n",
    "# generator.save_dist()"
   ]
  },
  {
   "cell_type": "markdown",
   "metadata": {},
   "source": [
    "# Circles Example"
   ]
  },
  {
   "cell_type": "code",
   "execution_count": null,
   "metadata": {
    "collapsed": true
   },
   "outputs": [],
   "source": [
    "# generator = data.CirclesDatasetGenerator(size=256, n_circles=4, random_colors=True, random_sizes=True, modes=20)\n",
    "# x = generator.generate_samples(10000)\n",
    "# print(len(x))\n",
    "# print(x[0].shape)\n",
    "# generator.generate_samples_to_directory(5000, './dataset_1')\n",
    "# generator.save_generator('./generator1.pickle')"
   ]
  },
  {
   "cell_type": "markdown",
   "metadata": {},
   "source": [
    "# MNIST Data"
   ]
  },
  {
   "cell_type": "code",
   "execution_count": null,
   "metadata": {
    "collapsed": true
   },
   "outputs": [],
   "source": [
    "# train_iter, val_iter, test_iter = get_data()"
   ]
  },
  {
   "cell_type": "code",
   "execution_count": null,
   "metadata": {},
   "outputs": [],
   "source": [
    "# train_iter.dataset.data_tensor.shape"
   ]
  },
  {
   "cell_type": "markdown",
   "metadata": {},
   "source": [
    "# Preprocessing Synthetic Data"
   ]
  },
  {
   "cell_type": "code",
   "execution_count": null,
   "metadata": {},
   "outputs": [],
   "source": [
    "i=0\n",
    "# gen = data.Distribution(distributions[i], size) "
   ]
  },
  {
   "cell_type": "code",
   "execution_count": null,
   "metadata": {},
   "outputs": [],
   "source": [
    "# train_iter, val_iter, test_iter = preprocess(generator, 10000)"
   ]
  },
  {
   "cell_type": "code",
   "execution_count": null,
   "metadata": {},
   "outputs": [],
   "source": [
    "# train_iter.dataset.data_tensor.shape"
   ]
  },
  {
   "cell_type": "markdown",
   "metadata": {},
   "source": [
    "# Controlled Experiments on GANs"
   ]
  },
  {
   "cell_type": "markdown",
   "metadata": {},
   "source": [
    "## 1. Divergence Measures between Distributions"
   ]
  },
  {
   "cell_type": "markdown",
   "metadata": {},
   "source": [
    "#### Measuring divergence between Synthetic Data and GAN Data with the following metrics: KL Divergences, Jensen-Shannon Divergence, Optimal Tranport Distance, Wasserstein Distance, Energy Distance, Total Variation Distance\n"
   ]
  },
  {
   "cell_type": "markdown",
   "metadata": {},
   "source": [
    "# KS Stat, KL Divergence, JS Divergence"
   ]
  },
  {
   "cell_type": "code",
   "execution_count": null,
   "metadata": {
    "collapsed": true
   },
   "outputs": [],
   "source": [
    "# Example with WGAN\n",
    "ks_dist = []\n",
    "kl_dist = []\n",
    "js_epoch = []\n",
    "the_dist = []\n",
    "\n",
    "res = {}\n",
    "# Also loop over mixture models and circles\n",
    "# Also loop over GANs\n",
    "for dist in distributions[0:5]:\n",
    "    res[dist]={}\n",
    "    gen = data.Distribution(dist,size)\n",
    "    train_iter, val_iter, test_iter = preprocess(gen, 10000)\n",
    "    i = 10\n",
    "    model = wgan.GAN(image_size = size, hidden_dim = 256, z_dim = size/4)\n",
    "    if torch.cuda.is_available():\n",
    "        model = model.cuda()\n",
    "    trainer = wgan.Trainer(train_iter, val_iter, test_iter)\n",
    "    model, kl, ks, js = trainer.train(model = model, num_epochs = i, G_lr = 5e-5, D_lr = 5e-5, D_steps = 5, clip = 0.01)\n",
    "    the_dist.append(dist)\n",
    "    res[dist][\"kl\"] = kl\n",
    "    res[dist][\"ks\"] = ks\n",
    "    res[dist][\"js\"] = js"
   ]
  },
  {
   "cell_type": "code",
   "execution_count": 21,
   "metadata": {},
   "outputs": [
    {
     "data": {
      "text/plain": [
       "[<matplotlib.lines.Line2D at 0x1288b1b70>]"
      ]
     },
     "execution_count": 21,
     "metadata": {},
     "output_type": "execute_result"
    },
    {
     "data": {
      "image/png": "[encoded data removed]",
      "text/plain": [
       "<matplotlib.figure.Figure at 0x125f34470>"
      ]
     },
     "metadata": {},
     "output_type": "display_data"
    }
   ],
   "source": [
    "normal = pd.DataFrame(res['normal'])\n",
    "beta = pd.DataFrame(res['beta'])\n",
    "exponential = pd.DataFrame(res['exponential'])\n",
    "gamma = pd.DataFrame(res['gamma'])\n",
    "gumbel = pd.DataFrame(res['gumbel'])\n",
    "\n",
    "plt.plot(range(10),normal.kl)\n",
    "plt.plot(range(10),beta.kl)\n",
    "plt.plot(range(10),exponential.kl)\n",
    "plt.plot(range(10),gamma.kl)\n",
    "plt.plot(range(10),gumbel.kl)"
   ]
  },
  {
   "cell_type": "code",
   "execution_count": 22,
   "metadata": {},
   "outputs": [
    {
     "data": {
      "text/plain": [
       "[<matplotlib.lines.Line2D at 0x124b64550>]"
      ]
     },
     "execution_count": 22,
     "metadata": {},
     "output_type": "execute_result"
    },
    {
     "data": {
      "image/png": "[encoded data removed]",
      "text/plain": [
       "<matplotlib.figure.Figure at 0x1226a6160>"
      ]
     },
     "metadata": {},
     "output_type": "display_data"
    }
   ],
   "source": [
    "plt.plot(range(10),normal.js)\n",
    "plt.plot(range(10),beta.js)\n",
    "plt.plot(range(10),exponential.js)\n",
    "plt.plot(range(10),gamma.js)\n",
    "plt.plot(range(10),gumbel.js)"
   ]
  },
  {
   "cell_type": "code",
   "execution_count": 23,
   "metadata": {},
   "outputs": [
    {
     "data": {
      "text/plain": [
       "[<matplotlib.lines.Line2D at 0x122d98ba8>]"
      ]
     },
     "execution_count": 23,
     "metadata": {},
     "output_type": "execute_result"
    },
    {
     "data": {
      "image/png": "[encoded data removed]",
      "text/plain": [
       "<matplotlib.figure.Figure at 0x124b591d0>"
      ]
     },
     "metadata": {},
     "output_type": "display_data"
    }
   ],
   "source": [
    "plt.plot(range(10),normal.ks)\n",
    "plt.plot(range(10),beta.ks)\n",
    "plt.plot(range(10),exponential.ks)\n",
    "plt.plot(range(10),gamma.ks)\n",
    "plt.plot(range(10),gumbel.ks)"
   ]
  },
  {
   "cell_type": "markdown",
   "metadata": {},
   "source": [
    "## 2. Empirical Analysis of Mode Collapse"
   ]
  },
  {
   "cell_type": "markdown",
   "metadata": {},
   "source": [
    "#### Three methods to measure mode collapse Inception Score, MODE Score, Frechet Inception Distance"
   ]
  },
  {
   "cell_type": "code",
   "execution_count": null,
   "metadata": {
    "collapsed": true
   },
   "outputs": [],
   "source": []
  },
  {
   "cell_type": "markdown",
   "metadata": {},
   "source": [
    "## 3. Empirical Evaluation of Performance with varying Information Geometry"
   ]
  },
  {
   "cell_type": "code",
   "execution_count": null,
   "metadata": {
    "collapsed": true
   },
   "outputs": [],
   "source": []
  },
  {
   "cell_type": "markdown",
   "metadata": {},
   "source": [
    "## 4. Evaluation of Empirical Sample Complexity"
   ]
  },
  {
   "cell_type": "code",
   "execution_count": null,
   "metadata": {
    "collapsed": true
   },
   "outputs": [],
   "source": []
  },
  {
   "cell_type": "code",
   "execution_count": null,
   "metadata": {
    "collapsed": true
   },
   "outputs": [],
   "source": []
  },
  {
   "cell_type": "code",
   "execution_count": null,
   "metadata": {
    "collapsed": true
   },
   "outputs": [],
   "source": [
    "n = 1"
   ]
  },
  {
   "cell_type": "markdown",
   "metadata": {},
   "source": [
    "# WGAN"
   ]
  },
  {
   "cell_type": "code",
   "execution_count": null,
   "metadata": {
    "collapsed": true
   },
   "outputs": [],
   "source": [
    "model = wgan.GAN(image_size = size, hidden_dim = 256, z_dim = 128)\n",
    "if torch.cuda.is_available():\n",
    "    model = model.cuda()\n",
    "trainer = wgan.Trainer(train_iter, val_iter, test_iter)\n",
    "model = trainer.train(model = model, num_epochs = n, G_lr = 5e-5, D_lr = 5e-5, D_steps = 5, clip = 0.01)"
   ]
  },
  {
   "cell_type": "code",
   "execution_count": null,
   "metadata": {
    "collapsed": true
   },
   "outputs": [],
   "source": []
  },
  {
   "cell_type": "code",
   "execution_count": null,
   "metadata": {
    "collapsed": true
   },
   "outputs": [],
   "source": []
  },
  {
   "cell_type": "markdown",
   "metadata": {},
   "source": [
    "# WGAN GP"
   ]
  },
  {
   "cell_type": "code",
   "execution_count": null,
   "metadata": {
    "collapsed": true
   },
   "outputs": [],
   "source": [
    "model = wgpgan.GAN(image_size = size, hidden_dim = 256, z_dim = 128) \n",
    "if torch.cuda.is_available():\n",
    "    model = model.cuda()\n",
    "trainer = wgpgan.Trainer(train_iter, val_iter, test_iter)\n",
    "model = trainer.train(model = model, num_epochs = n, G_lr = 1e-4, D_lr = 1e-4, D_steps = 5)"
   ]
  },
  {
   "cell_type": "markdown",
   "metadata": {},
   "source": [
    "# VAE"
   ]
  },
  {
   "cell_type": "code",
   "execution_count": null,
   "metadata": {
    "collapsed": true
   },
   "outputs": [],
   "source": [
    "model = vae.VAE(image_size = size, hidden_dim = 400, z_dim = 20)\n",
    "if torch.cuda.is_available():\n",
    "    model.cuda()\n",
    "trainer = vae.Trainer(train_iter, val_iter, test_iter)\n",
    "model = trainer.train(model, num_epochs = n)\n",
    "\n",
    "# # Explore latent space\n",
    "# viz = vae.Viz(train_iter, val_iter, test_iter, model)\n",
    "# viz.make_all()"
   ]
  },
  {
   "cell_type": "markdown",
   "metadata": {},
   "source": [
    "# NS GAN"
   ]
  },
  {
   "cell_type": "code",
   "execution_count": null,
   "metadata": {
    "collapsed": true
   },
   "outputs": [],
   "source": [
    "model = nsgan.GAN(image_size = size, hidden_dim = 256, z_dim = 128)\n",
    "if torch.cuda.is_available():\n",
    "    model = model.cuda()\n",
    "trainer = nsgan.Trainer(train_iter, val_iter, test_iter)\n",
    "model = trainer.train(model = model, num_epochs = n, G_lr = 2e-4, D_lr = 2e-4, D_steps = 1)"
   ]
  },
  {
   "cell_type": "markdown",
   "metadata": {},
   "source": [
    "# MM GAN"
   ]
  },
  {
   "cell_type": "code",
   "execution_count": null,
   "metadata": {
    "collapsed": true
   },
   "outputs": [],
   "source": [
    "model = mmgan.GAN(image_size = size, hidden_dim = 400, z_dim = 100)\n",
    "if torch.cuda.is_available():\n",
    "    model = model.cuda()\n",
    "trainer = mmgan.Trainer(train_iter, val_iter, test_iter)\n",
    "model = trainer.train(model = model, num_epochs = n, G_lr = 2e-4, D_lr = 2e-4, G_init = 5, D_steps = 1)"
   ]
  },
  {
   "cell_type": "markdown",
   "metadata": {},
   "source": [
    "# LS GAN"
   ]
  },
  {
   "cell_type": "code",
   "execution_count": null,
   "metadata": {
    "collapsed": true
   },
   "outputs": [],
   "source": [
    "model = lsgan.GAN(image_size = size, hidden_dim = 256, z_dim = 128)\n",
    "if torch.cuda.is_available():\n",
    "    model = model.cuda()\n",
    "trainer = lsgan.Trainer(train_iter, val_iter, test_iter)\n",
    "model = trainer.train(model = model, num_epochs = n, G_lr = 1e-4, D_lr = 1e-4, D_steps = 1)"
   ]
  },
  {
   "cell_type": "markdown",
   "metadata": {},
   "source": [
    "# DRA GAN"
   ]
  },
  {
   "cell_type": "code",
   "execution_count": null,
   "metadata": {
    "collapsed": true
   },
   "outputs": [],
   "source": [
    "model = dragan.GAN(image_size = size, hidden_dim = 256, z_dim = 128)\n",
    "if torch.cuda.is_available():\n",
    "    model = model.cuda()\n",
    "trainer = dragan.Trainer(train_iter, val_iter, test_iter)\n",
    "model = trainer.train(model = model, num_epochs = n, G_lr = 1e-4, D_lr = 1e-4, D_steps = 1)"
   ]
  },
  {
   "cell_type": "markdown",
   "metadata": {},
   "source": [
    "# BE GAN"
   ]
  },
  {
   "cell_type": "code",
   "execution_count": null,
   "metadata": {
    "collapsed": true
   },
   "outputs": [],
   "source": [
    "model = began.GAN(image_size = size, hidden_dim = 256, z_dim = 128)\n",
    "if torch.cuda.is_available():\n",
    "    model = model.cuda()\n",
    "trainer = began.Trainer(train_iter, val_iter, test_iter)\n",
    "model = trainer.train(model = model, num_epochs = n, G_lr = 1e-4, D_lr = 1e-4, D_steps = 1)"
   ]
  },
  {
   "cell_type": "code",
   "execution_count": null,
   "metadata": {
    "collapsed": true
   },
   "outputs": [],
   "source": []
  },
  {
   "cell_type": "code",
   "execution_count": null,
   "metadata": {
    "collapsed": true
   },
   "outputs": [],
   "source": []
  }
 ],
 "metadata": {
  "kernelspec": {
   "display_name": "Python 3",
   "language": "python",
   "name": "python3"
  },
  "language_info": {
   "codemirror_mode": {
    "name": "ipython",
    "version": 3
   },
   "file_extension": ".py",
   "mimetype": "text/x-python",
   "name": "python",
   "nbconvert_exporter": "python",
   "pygments_lexer": "ipython3",
   "version": "3.6.3"
  }
 },
 "nbformat": 4,
 "nbformat_minor": 2
}
