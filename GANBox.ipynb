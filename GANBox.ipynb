{
 "cells": [
  {
   "cell_type": "code",
   "execution_count": 1,
   "metadata": {},
   "outputs": [],
   "source": [
    "import data\n",
    "import torch\n",
    "from torch.utils.data import TensorDataset\n",
    "import numpy as np\n",
    "from scipy.stats import entropy, ks_2samp, moment, wasserstein_distance, energy_distance\n",
    "from scipy import stats\n",
    "\n",
    "import matplotlib.pyplot as plt\n",
    "\n",
    "%matplotlib inline\n",
    "\n",
    "import pandas as pd\n",
    "import gans.w_gan as wgan\n",
    "import gans.w_gp_gan as wgpgan\n",
    "import gans.vae as vae\n",
    "import gans.ns_gan as nsgan\n",
    "import gans.mm_gan as mmgan\n",
    "import gans.ls_gan as lsgan\n",
    "import gans.dra_gan as dragan\n",
    "import gans.be_gan as began\n",
    "from gans.load_data import get_data\n",
    "from gans.utils import to_var"
   ]
  },
  {
   "cell_type": "code",
   "execution_count": 2,
   "metadata": {
    "collapsed": true
   },
   "outputs": [],
   "source": [
    "n=1\n",
    "size=200\n",
    "i = 0\n",
    "j = 0\n",
    "distributions = ['normal', 'beta', 'exponential', 'gamma', 'gumbel', 'laplace']\n",
    "pdfs = ['uniform', 'random']"
   ]
  },
  {
   "cell_type": "code",
   "execution_count": 3,
   "metadata": {},
   "outputs": [
    {
     "data": {
      "text/plain": [
       "array([1.36770128, 0.7067766 , 0.92086762, 0.73875196, 3.86749438])"
      ]
     },
     "execution_count": 3,
     "metadata": {},
     "output_type": "execute_result"
    }
   ],
   "source": [
    "generator = data.Distribution(distributions[i], size) \n",
    "moment(generator.generate_samples(500).T, moment=2)[0:5]"
   ]
  },
  {
   "cell_type": "code",
   "execution_count": 4,
   "metadata": {
    "collapsed": true
   },
   "outputs": [],
   "source": [
    "def get_pdf(data):\n",
    "    x = []\n",
    "    for i in range(data.shape[0]):\n",
    "        x.append(list(np.histogram(data[i], bins=100, density=True)[0]))\n",
    "    df = pd.DataFrame(x)\n",
    "    pdf = list(df.mean(axis=0))\n",
    "    return pdf\n",
    "\n",
    "\n",
    "def preprocess(generator, samples, BATCH_SIZE = 100):\n",
    "    data_train = torch.from_numpy(generator.generate_samples(samples)).float()\n",
    "    data_val = torch.from_numpy(generator.generate_samples(samples)).float()\n",
    "    data_test = torch.from_numpy(generator.generate_samples(samples)).float()\n",
    "    labels_train = torch.from_numpy(np.zeros((samples,1)))\n",
    "    train = TensorDataset(data_train, labels_train)\n",
    "    val =TensorDataset(data_val, labels_train)\n",
    "    test = TensorDataset(data_test, labels_train)\n",
    "    train_iter = torch.utils.data.DataLoader(train, batch_size=BATCH_SIZE, shuffle=True)\n",
    "    val_iter = torch.utils.data.DataLoader(val, batch_size=BATCH_SIZE, shuffle=True)\n",
    "    test_iter = torch.utils.data.DataLoader(test, batch_size=BATCH_SIZE, shuffle=True)\n",
    "    return train_iter, val_iter, test_iter"
   ]
  },
  {
   "cell_type": "markdown",
   "metadata": {},
   "source": [
    "# Multivariate Distributions Example"
   ]
  },
  {
   "cell_type": "code",
   "execution_count": 5,
   "metadata": {
    "collapsed": true
   },
   "outputs": [],
   "source": [
    "# generator = data.Distribution(distributions[i], 200)\n",
    "# generator.save_dist('output_file.pickle')  # Saving the generator"
   ]
  },
  {
   "cell_type": "markdown",
   "metadata": {},
   "source": [
    "# Mixture Models Example"
   ]
  },
  {
   "cell_type": "code",
   "execution_count": 6,
   "metadata": {
    "collapsed": true
   },
   "outputs": [],
   "source": [
    "# generator = data.MixtureDistribution(distributions[i], distributions[j], n_mixtures=15, dim=200)\n",
    "# generator.get_log_likelihood(data_train)\n",
    "# generator.save_dist()"
   ]
  },
  {
   "cell_type": "markdown",
   "metadata": {},
   "source": [
    "# Circles Example"
   ]
  },
  {
   "cell_type": "code",
   "execution_count": 7,
   "metadata": {
    "collapsed": true
   },
   "outputs": [],
   "source": [
    "# generator = data.CirclesDatasetGenerator(size=256, n_circles=4, random_colors=True, random_sizes=True, modes=20)\n",
    "# x = generator.generate_samples(10000)\n",
    "# print(len(x))\n",
    "# print(x[0].shape)\n",
    "# generator.generate_samples_to_directory(5000, './dataset_1')\n",
    "# generator.save_generator('./generator1.pickle')"
   ]
  },
  {
   "cell_type": "markdown",
   "metadata": {},
   "source": [
    "# MNIST Data"
   ]
  },
  {
   "cell_type": "code",
   "execution_count": 8,
   "metadata": {
    "collapsed": true
   },
   "outputs": [],
   "source": [
    "# train_iter, val_iter, test_iter = get_data()"
   ]
  },
  {
   "cell_type": "code",
   "execution_count": 9,
   "metadata": {},
   "outputs": [],
   "source": [
    "# train_iter.dataset.data_tensor.shape"
   ]
  },
  {
   "cell_type": "markdown",
   "metadata": {},
   "source": [
    "# Preprocessing Synthetic Data"
   ]
  },
  {
   "cell_type": "code",
   "execution_count": 10,
   "metadata": {},
   "outputs": [],
   "source": [
    "i=0\n",
    "# gen = data.Distribution(distributions[i], size) "
   ]
  },
  {
   "cell_type": "code",
   "execution_count": 11,
   "metadata": {},
   "outputs": [],
   "source": [
    "# train_iter, val_iter, test_iter = preprocess(generator, 10000)"
   ]
  },
  {
   "cell_type": "code",
   "execution_count": 12,
   "metadata": {},
   "outputs": [],
   "source": [
    "# train_iter.dataset.data_tensor.shape"
   ]
  },
  {
   "cell_type": "markdown",
   "metadata": {},
   "source": [
    "# Controlled Experiments on GANs"
   ]
  },
  {
   "cell_type": "markdown",
   "metadata": {},
   "source": [
    "## 1. Divergence Measures between Distributions"
   ]
  },
  {
   "cell_type": "markdown",
   "metadata": {},
   "source": [
    "#### Measuring divergence between Synthetic Data and GAN Data with the following metrics: KL Divergences, Jensen-Shannon Divergence, Optimal Tranport Distance, Wasserstein Distance, Energy Distance, Total Variation Distance\n"
   ]
  },
  {
   "cell_type": "markdown",
   "metadata": {},
   "source": [
    "# KS Stat, KL Divergence, JS Divergence"
   ]
  },
  {
   "cell_type": "code",
   "execution_count": 31,
   "metadata": {},
   "outputs": [
    {
     "data": {
      "application/vnd.jupyter.widget-view+json": {
       "model_id": "6cd5fdfc2d21496c8e9d957630e9c298",
       "version_major": 2,
       "version_minor": 0
      },
      "text/plain": [
       "A Jupyter Widget"
      ]
     },
     "metadata": {},
     "output_type": "display_data"
    },
    {
     "name": "stdout",
     "output_type": "stream",
     "text": [
      "Epoch[1/50], G Loss: -0.0027, D Loss: -0.2934\n",
      "Epoch[2/50], G Loss: -0.0048, D Loss: -0.5790\n",
      "Epoch[3/50], G Loss: -0.0088, D Loss: -0.7726\n",
      "\n",
      "Epoch[4/50], G Loss: -0.0121, D Loss: -0.8529\n",
      "Epoch[5/50], G Loss: -0.0156, D Loss: -0.8693\n",
      "Epoch[6/50], G Loss: -0.0174, D Loss: -0.8671\n",
      "Epoch[7/50], G Loss: -0.0178, D Loss: -0.8537\n",
      "Epoch[8/50], G Loss: -0.0189, D Loss: -0.8578\n",
      "Epoch[9/50], G Loss: -0.0193, D Loss: -0.8474\n",
      "Epoch[10/50], G Loss: -0.0189, D Loss: -0.8343\n",
      "Epoch[11/50], G Loss: -0.0194, D Loss: -0.8259\n",
      "Epoch[12/50], G Loss: -0.0218, D Loss: -0.8288\n",
      "Epoch[13/50], G Loss: -0.0211, D Loss: -0.8150\n",
      "Epoch[14/50], G Loss: -0.0226, D Loss: -0.8130\n",
      "Epoch[15/50], G Loss: -0.0216, D Loss: -0.8077\n",
      "Epoch[16/50], G Loss: -0.0222, D Loss: -0.7988\n",
      "Epoch[17/50], G Loss: -0.0217, D Loss: -0.7977\n",
      "Epoch[18/50], G Loss: -0.0194, D Loss: -0.8035\n",
      "Epoch[19/50], G Loss: -0.0185, D Loss: -0.8003\n",
      "Epoch[20/50], G Loss: -0.0211, D Loss: -0.8066\n",
      "Epoch[21/50], G Loss: -0.0246, D Loss: -0.8028\n",
      "Epoch[22/50], G Loss: -0.0232, D Loss: -0.7934\n",
      "Epoch[23/50], G Loss: -0.0218, D Loss: -0.7959\n",
      "Epoch[24/50], G Loss: -0.0211, D Loss: -0.7845\n",
      "Epoch[25/50], G Loss: -0.0201, D Loss: -0.7775\n",
      "Epoch[26/50], G Loss: -0.0195, D Loss: -0.7781\n",
      "Epoch[27/50], G Loss: -0.0187, D Loss: -0.7827\n",
      "Epoch[28/50], G Loss: -0.0203, D Loss: -0.7662\n",
      "Epoch[29/50], G Loss: -0.0192, D Loss: -0.7725\n",
      "Epoch[30/50], G Loss: -0.0196, D Loss: -0.7612\n",
      "Epoch[31/50], G Loss: -0.0192, D Loss: -0.7670\n",
      "Epoch[32/50], G Loss: -0.0178, D Loss: -0.7567\n",
      "Epoch[33/50], G Loss: -0.0184, D Loss: -0.7620\n",
      "Epoch[34/50], G Loss: -0.0196, D Loss: -0.7626\n",
      "Epoch[35/50], G Loss: -0.0174, D Loss: -0.7466\n",
      "Epoch[36/50], G Loss: -0.0181, D Loss: -0.7458\n",
      "Epoch[37/50], G Loss: -0.0164, D Loss: -0.7476\n",
      "Epoch[38/50], G Loss: -0.0181, D Loss: -0.7529\n",
      "Epoch[39/50], G Loss: -0.0178, D Loss: -0.7403\n",
      "Epoch[40/50], G Loss: -0.0188, D Loss: -0.7424\n",
      "Epoch[41/50], G Loss: -0.0193, D Loss: -0.7436\n",
      "Epoch[42/50], G Loss: -0.0186, D Loss: -0.7429\n",
      "Epoch[43/50], G Loss: -0.0204, D Loss: -0.7510\n",
      "Epoch[44/50], G Loss: -0.0215, D Loss: -0.7392\n",
      "Epoch[45/50], G Loss: -0.0202, D Loss: -0.7426\n",
      "Epoch[46/50], G Loss: -0.0196, D Loss: -0.7464\n",
      "Epoch[47/50], G Loss: -0.0200, D Loss: -0.7387\n",
      "Epoch[48/50], G Loss: -0.0195, D Loss: -0.7314\n",
      "Epoch[49/50], G Loss: -0.0209, D Loss: -0.7413\n",
      "Epoch[50/50], G Loss: -0.0220, D Loss: -0.7374\n",
      "\n"
     ]
    },
    {
     "data": {
      "application/vnd.jupyter.widget-view+json": {
       "model_id": "cbb7db08aa6a45538482eb16d3744572",
       "version_major": 2,
       "version_minor": 0
      },
      "text/plain": [
       "A Jupyter Widget"
      ]
     },
     "metadata": {},
     "output_type": "display_data"
    },
    {
     "name": "stdout",
     "output_type": "stream",
     "text": [
      "Epoch[1/50], G Loss: -0.0208, D Loss: -0.1629\n",
      "Epoch[2/50], G Loss: -0.1068, D Loss: -0.2731\n",
      "Epoch[3/50], G Loss: -0.2197, D Loss: -0.3015\n",
      "Epoch[4/50], G Loss: -0.3251, D Loss: -0.2891\n",
      "Epoch[5/50], G Loss: -0.4018, D Loss: -0.2513\n",
      "Epoch[6/50], G Loss: -0.4294, D Loss: -0.2164\n",
      "Epoch[7/50], G Loss: -0.4218, D Loss: -0.1858\n",
      "Epoch[8/50], G Loss: -0.3951, D Loss: -0.1640\n",
      "Epoch[9/50], G Loss: -0.3757, D Loss: -0.1478\n",
      "Epoch[10/50], G Loss: -0.3528, D Loss: -0.1325\n",
      "Epoch[11/50], G Loss: -0.3377, D Loss: -0.1169\n",
      "Epoch[12/50], G Loss: -0.3317, D Loss: -0.1023\n",
      "Epoch[13/50], G Loss: -0.3372, D Loss: -0.0868\n",
      "Epoch[14/50], G Loss: -0.3756, D Loss: -0.0762\n",
      "Epoch[15/50], G Loss: -0.4116, D Loss: -0.0662\n",
      "Epoch[16/50], G Loss: -0.3792, D Loss: -0.0586\n",
      "Epoch[17/50], G Loss: -0.3116, D Loss: -0.0529\n",
      "Epoch[18/50], G Loss: -0.2530, D Loss: -0.0483\n",
      "Epoch[19/50], G Loss: -0.1790, D Loss: -0.0431\n",
      "Epoch[20/50], G Loss: -0.1118, D Loss: -0.0374\n",
      "Epoch[21/50], G Loss: -0.0890, D Loss: -0.0347\n",
      "Epoch[22/50], G Loss: -0.0927, D Loss: -0.0311\n",
      "Epoch[23/50], G Loss: -0.1362, D Loss: -0.0268\n",
      "Epoch[24/50], G Loss: -0.2279, D Loss: -0.0229\n",
      "Epoch[25/50], G Loss: -0.3047, D Loss: -0.0193\n",
      "Epoch[26/50], G Loss: -0.3099, D Loss: -0.0164\n",
      "Epoch[27/50], G Loss: -0.2887, D Loss: -0.0156\n",
      "Epoch[28/50], G Loss: -0.2439, D Loss: -0.0145\n",
      "Epoch[29/50], G Loss: -0.1773, D Loss: -0.0111\n",
      "Epoch[30/50], G Loss: -0.1300, D Loss: -0.0102\n",
      "Epoch[31/50], G Loss: -0.1293, D Loss: -0.0086\n",
      "Epoch[32/50], G Loss: -0.1387, D Loss: -0.0075\n",
      "Epoch[33/50], G Loss: -0.1173, D Loss: -0.0075\n",
      "Epoch[34/50], G Loss: -0.0726, D Loss: -0.0067\n",
      "Epoch[35/50], G Loss: -0.0220, D Loss: -0.0066\n",
      "Epoch[36/50], G Loss: -0.0026, D Loss: -0.0068\n",
      "Epoch[37/50], G Loss: -0.0013, D Loss: -0.0057\n",
      "Epoch[38/50], G Loss: -0.0010, D Loss: -0.0046\n",
      "Epoch[39/50], G Loss: -0.0007, D Loss: -0.0043\n",
      "Epoch[40/50], G Loss: -0.0005, D Loss: -0.0035\n",
      "Epoch[41/50], G Loss: -0.0007, D Loss: -0.0028\n",
      "Epoch[42/50], G Loss: -0.0007, D Loss: -0.0025\n",
      "Epoch[43/50], G Loss: -0.0009, D Loss: -0.0019\n",
      "Epoch[44/50], G Loss: -0.0003, D Loss: -0.0014\n",
      "Epoch[45/50], G Loss: -0.0004, D Loss: -0.0015\n",
      "Epoch[46/50], G Loss: -0.0002, D Loss: -0.0012\n",
      "Epoch[47/50], G Loss: -0.0004, D Loss: -0.0010\n",
      "Epoch[48/50], G Loss: -0.0002, D Loss: -0.0013\n",
      "Epoch[49/50], G Loss: -0.0005, D Loss: -0.0017\n",
      "Epoch[50/50], G Loss: -0.0002, D Loss: -0.0013\n",
      "\n"
     ]
    },
    {
     "data": {
      "application/vnd.jupyter.widget-view+json": {
       "model_id": "57af491c6482467c94d54ef5cee099a5",
       "version_major": 2,
       "version_minor": 0
      },
      "text/plain": [
       "A Jupyter Widget"
      ]
     },
     "metadata": {},
     "output_type": "display_data"
    },
    {
     "name": "stdout",
     "output_type": "stream",
     "text": [
      "Epoch[1/50], G Loss: -0.0165, D Loss: -0.1930\n",
      "Epoch[2/50], G Loss: -0.0980, D Loss: -0.3327\n",
      "Epoch[3/50], G Loss: -0.2183, D Loss: -0.3764\n",
      "Epoch[4/50], G Loss: -0.3278, D Loss: -0.3668\n",
      "Epoch[5/50], G Loss: -0.4055, D Loss: -0.3241\n",
      "Epoch[6/50], G Loss: -0.4695, D Loss: -0.2832\n",
      "Epoch[7/50], G Loss: -0.5285, D Loss: -0.2509\n",
      "Epoch[8/50], G Loss: -0.5689, D Loss: -0.2248\n",
      "Epoch[9/50], G Loss: -0.5898, D Loss: -0.1992\n",
      "Epoch[10/50], G Loss: -0.5943, D Loss: -0.1774\n",
      "Epoch[11/50], G Loss: -0.5872, D Loss: -0.1587\n",
      "Epoch[12/50], G Loss: -0.5779, D Loss: -0.1393\n",
      "Epoch[13/50], G Loss: -0.5652, D Loss: -0.1257\n",
      "Epoch[14/50], G Loss: -0.5664, D Loss: -0.1114\n",
      "Epoch[15/50], G Loss: -0.5622, D Loss: -0.0979\n",
      "Epoch[16/50], G Loss: -0.5512, D Loss: -0.0848\n",
      "Epoch[17/50], G Loss: -0.5400, D Loss: -0.0744\n",
      "Epoch[18/50], G Loss: -0.5204, D Loss: -0.0677\n",
      "Epoch[19/50], G Loss: -0.4888, D Loss: -0.0600\n",
      "Epoch[20/50], G Loss: -0.4554, D Loss: -0.0551\n",
      "Epoch[21/50], G Loss: -0.4087, D Loss: -0.0496\n",
      "Epoch[22/50], G Loss: -0.3660, D Loss: -0.0465\n",
      "Epoch[23/50], G Loss: -0.3291, D Loss: -0.0416\n",
      "Epoch[24/50], G Loss: -0.3086, D Loss: -0.0375\n",
      "Epoch[25/50], G Loss: -0.2824, D Loss: -0.0338\n",
      "Epoch[26/50], G Loss: -0.2667, D Loss: -0.0316\n",
      "Epoch[27/50], G Loss: -0.2508, D Loss: -0.0300\n",
      "Epoch[28/50], G Loss: -0.2540, D Loss: -0.0236\n",
      "Epoch[29/50], G Loss: -0.2719, D Loss: -0.0194\n",
      "Epoch[30/50], G Loss: -0.2914, D Loss: -0.0197\n",
      "Epoch[31/50], G Loss: -0.3134, D Loss: -0.0157\n",
      "Epoch[32/50], G Loss: -0.3247, D Loss: -0.0160\n",
      "Epoch[33/50], G Loss: -0.3394, D Loss: -0.0176\n",
      "Epoch[34/50], G Loss: -0.3523, D Loss: -0.0139\n",
      "Epoch[35/50], G Loss: -0.3632, D Loss: -0.0118\n",
      "Epoch[36/50], G Loss: -0.3492, D Loss: -0.0099\n",
      "Epoch[37/50], G Loss: -0.3297, D Loss: -0.0111\n",
      "Epoch[38/50], G Loss: -0.3053, D Loss: -0.0100\n",
      "Epoch[39/50], G Loss: -0.2714, D Loss: -0.0081\n",
      "Epoch[40/50], G Loss: -0.2468, D Loss: -0.0086\n",
      "Epoch[41/50], G Loss: -0.2020, D Loss: -0.0076\n",
      "Epoch[42/50], G Loss: -0.0247, D Loss: -0.0245\n",
      "Epoch[43/50], G Loss: -0.0033, D Loss: -0.0312\n",
      "Epoch[44/50], G Loss: -0.0024, D Loss: -0.0315\n",
      "Epoch[45/50], G Loss: -0.0022, D Loss: -0.0288\n",
      "Epoch[46/50], G Loss: -0.0022, D Loss: -0.0293\n",
      "Epoch[47/50], G Loss: -0.0016, D Loss: -0.0289\n",
      "Epoch[48/50], G Loss: -0.0021, D Loss: -0.0282\n",
      "Epoch[49/50], G Loss: -0.0016, D Loss: -0.0277\n",
      "Epoch[50/50], G Loss: -0.0022, D Loss: -0.0270\n",
      "\n"
     ]
    },
    {
     "data": {
      "application/vnd.jupyter.widget-view+json": {
       "model_id": "211bbb464c6f4df780b18d02dc074463",
       "version_major": 2,
       "version_minor": 0
      },
      "text/plain": [
       "A Jupyter Widget"
      ]
     },
     "metadata": {},
     "output_type": "display_data"
    },
    {
     "name": "stdout",
     "output_type": "stream",
     "text": [
      "Epoch[1/50], G Loss: -0.2218, D Loss: -116.8661\n",
      "Epoch[2/50], G Loss: -0.4711, D Loss: -231.3699\n",
      "Epoch[3/50], G Loss: -0.6735, D Loss: -312.3275\n",
      "Epoch[4/50], G Loss: -0.7917, D Loss: -356.3211\n",
      "Epoch[5/50], G Loss: -0.8026, D Loss: -359.3285\n",
      "Epoch[6/50], G Loss: -0.8008, D Loss: -359.3259\n",
      "Epoch[7/50], G Loss: -0.7952, D Loss: -359.3257\n",
      "Epoch[8/50], G Loss: -0.7900, D Loss: -359.3568\n",
      "Epoch[9/50], G Loss: -0.7878, D Loss: -359.3399\n",
      "Epoch[10/50], G Loss: -0.7844, D Loss: -359.3494\n",
      "Epoch[11/50], G Loss: -0.7841, D Loss: -359.3337\n",
      "Epoch[12/50], G Loss: -0.7851, D Loss: -359.3286\n",
      "Epoch[13/50], G Loss: -0.7864, D Loss: -359.3443\n",
      "Epoch[14/50], G Loss: -0.7891, D Loss: -359.3364\n",
      "Epoch[15/50], G Loss: -0.7922, D Loss: -359.3410\n",
      "Epoch[16/50], G Loss: -0.7954, D Loss: -359.3237\n",
      "Epoch[17/50], G Loss: -0.7987, D Loss: -359.3278\n",
      "Epoch[18/50], G Loss: -0.8025, D Loss: -359.3102\n",
      "Epoch[19/50], G Loss: -0.8059, D Loss: -359.3053\n",
      "Epoch[20/50], G Loss: -0.8104, D Loss: -359.3224\n",
      "Epoch[21/50], G Loss: -0.8140, D Loss: -359.3105\n",
      "Epoch[22/50], G Loss: -0.8170, D Loss: -359.2884\n",
      "Epoch[23/50], G Loss: -0.8202, D Loss: -359.2860\n",
      "Epoch[24/50], G Loss: -0.8228, D Loss: -359.3053\n",
      "Epoch[25/50], G Loss: -0.8259, D Loss: -359.2949\n",
      "Epoch[26/50], G Loss: -0.8285, D Loss: -359.3011\n",
      "Epoch[27/50], G Loss: -0.8314, D Loss: -359.2728\n",
      "Epoch[28/50], G Loss: -0.8337, D Loss: -359.2888\n",
      "Epoch[29/50], G Loss: -0.8357, D Loss: -359.2906\n",
      "Epoch[30/50], G Loss: -0.8381, D Loss: -359.2926\n",
      "Epoch[31/50], G Loss: -0.8405, D Loss: -359.2867\n",
      "Epoch[32/50], G Loss: -0.8420, D Loss: -359.3050\n",
      "Epoch[33/50], G Loss: -0.8438, D Loss: -359.2860\n",
      "Epoch[34/50], G Loss: -0.8463, D Loss: -359.2768\n",
      "Epoch[35/50], G Loss: -0.8482, D Loss: -359.3110\n",
      "Epoch[36/50], G Loss: -0.8493, D Loss: -359.2854\n",
      "Epoch[37/50], G Loss: -0.8514, D Loss: -359.2667\n",
      "Epoch[38/50], G Loss: -0.8528, D Loss: -359.2850\n",
      "Epoch[39/50], G Loss: -0.8541, D Loss: -359.2775\n",
      "Epoch[40/50], G Loss: -0.8557, D Loss: -359.2538\n",
      "Epoch[41/50], G Loss: -0.8567, D Loss: -359.2647\n",
      "Epoch[42/50], G Loss: -0.8583, D Loss: -359.2514\n",
      "Epoch[43/50], G Loss: -0.8585, D Loss: -359.2657\n",
      "Epoch[44/50], G Loss: -0.8600, D Loss: -359.2534\n",
      "Epoch[45/50], G Loss: -0.8607, D Loss: -359.2613\n",
      "Epoch[46/50], G Loss: -0.8618, D Loss: -359.2737\n",
      "Epoch[47/50], G Loss: -0.8623, D Loss: -359.2943\n",
      "Epoch[48/50], G Loss: -0.8634, D Loss: -359.2786\n",
      "Epoch[49/50], G Loss: -0.8643, D Loss: -359.2872\n",
      "Epoch[50/50], G Loss: -0.8650, D Loss: -359.2619\n",
      "\n"
     ]
    },
    {
     "data": {
      "application/vnd.jupyter.widget-view+json": {
       "model_id": "bbdff96e048d409d8cb401e8c59842fa",
       "version_major": 2,
       "version_minor": 0
      },
      "text/plain": [
       "A Jupyter Widget"
      ]
     },
     "metadata": {},
     "output_type": "display_data"
    },
    {
     "name": "stdout",
     "output_type": "stream",
     "text": [
      "Epoch[1/50], G Loss: -0.2739, D Loss: -0.2945\n",
      "Epoch[2/50], G Loss: -0.6232, D Loss: -0.5295\n",
      "Epoch[3/50], G Loss: -0.8829, D Loss: -0.6295\n",
      "Epoch[4/50], G Loss: -1.0136, D Loss: -0.6260\n",
      "Epoch[5/50], G Loss: -1.0529, D Loss: -0.5831\n",
      "Epoch[6/50], G Loss: -1.0638, D Loss: -0.5513\n",
      "Epoch[7/50], G Loss: -1.0579, D Loss: -0.5219\n",
      "Epoch[8/50], G Loss: -1.0512, D Loss: -0.4974\n",
      "Epoch[9/50], G Loss: -1.0597, D Loss: -0.4756\n",
      "Epoch[10/50], G Loss: -1.0645, D Loss: -0.4531\n",
      "Epoch[11/50], G Loss: -1.0782, D Loss: -0.4348\n",
      "Epoch[12/50], G Loss: -1.0859, D Loss: -0.4141\n",
      "Epoch[13/50], G Loss: -1.0767, D Loss: -0.3988\n",
      "Epoch[14/50], G Loss: -1.0670, D Loss: -0.3809\n",
      "Epoch[15/50], G Loss: -1.0695, D Loss: -0.3661\n",
      "Epoch[16/50], G Loss: -1.0663, D Loss: -0.3523\n",
      "Epoch[17/50], G Loss: -1.0549, D Loss: -0.3404\n",
      "Epoch[18/50], G Loss: -1.0491, D Loss: -0.3286\n",
      "Epoch[19/50], G Loss: -1.0583, D Loss: -0.3168\n",
      "Epoch[20/50], G Loss: -1.0678, D Loss: -0.3047\n",
      "Epoch[21/50], G Loss: -1.0874, D Loss: -0.2956\n",
      "Epoch[22/50], G Loss: -1.1118, D Loss: -0.2869\n",
      "Epoch[23/50], G Loss: -1.1152, D Loss: -0.2771\n",
      "Epoch[24/50], G Loss: -1.1027, D Loss: -0.2719\n",
      "Epoch[25/50], G Loss: -1.0852, D Loss: -0.2621\n",
      "Epoch[26/50], G Loss: -1.0731, D Loss: -0.2582\n",
      "Epoch[27/50], G Loss: -1.0618, D Loss: -0.2493\n",
      "Epoch[28/50], G Loss: -1.0637, D Loss: -0.2443\n",
      "Epoch[29/50], G Loss: -1.0766, D Loss: -0.2380\n",
      "Epoch[30/50], G Loss: -1.0839, D Loss: -0.2351\n",
      "Epoch[31/50], G Loss: -1.0723, D Loss: -0.2322\n",
      "Epoch[32/50], G Loss: -1.0519, D Loss: -0.2267\n",
      "Epoch[33/50], G Loss: -1.0298, D Loss: -0.2210\n",
      "Epoch[34/50], G Loss: -1.0175, D Loss: -0.2215\n",
      "Epoch[35/50], G Loss: -1.0056, D Loss: -0.2136\n",
      "Epoch[36/50], G Loss: -1.0020, D Loss: -0.2097\n",
      "Epoch[37/50], G Loss: -1.0132, D Loss: -0.2100\n",
      "Epoch[38/50], G Loss: -1.0255, D Loss: -0.2043\n",
      "Epoch[39/50], G Loss: -1.0242, D Loss: -0.2031\n",
      "Epoch[40/50], G Loss: -1.0148, D Loss: -0.1987\n",
      "Epoch[41/50], G Loss: -1.0002, D Loss: -0.1986\n",
      "Epoch[42/50], G Loss: -0.9829, D Loss: -0.1975\n",
      "Epoch[43/50], G Loss: -0.9570, D Loss: -0.1942\n",
      "Epoch[44/50], G Loss: -0.9455, D Loss: -0.1951\n",
      "Epoch[45/50], G Loss: -0.9643, D Loss: -0.1919\n",
      "Epoch[46/50], G Loss: -0.9684, D Loss: -0.1886\n",
      "Epoch[47/50], G Loss: -0.9666, D Loss: -0.1899\n",
      "Epoch[48/50], G Loss: -0.9491, D Loss: -0.1852\n",
      "Epoch[49/50], G Loss: -0.9402, D Loss: -0.1838\n",
      "Epoch[50/50], G Loss: -0.9382, D Loss: -0.1834\n",
      "\n"
     ]
    }
   ],
   "source": [
    "# Example with WGAN\n",
    "res = {}\n",
    "# Also loop over mixture models and circles\n",
    "# Also loop over GANs\n",
    "for dist in distributions[0:5]:\n",
    "    res[dist]={}\n",
    "    gen = data.Distribution(dist,size)\n",
    "    train_iter, val_iter, test_iter = preprocess(gen, 10000)\n",
    "    epochs = 50\n",
    "    model = wgan.GAN(image_size = size, hidden_dim = 256, z_dim = int(round(size/4,0)))\n",
    "    if torch.cuda.is_available():\n",
    "        model = model.cuda()\n",
    "    trainer = wgan.Trainer(train_iter, val_iter, test_iter)\n",
    "    model, kl, ks, js, wd, ed = trainer.train(model = model, num_epochs = epochs, G_lr = 5e-5, D_lr = 5e-5, D_steps = 5, clip = 0.01)\n",
    "    res[dist][\"KL-Divergence\"] = kl\n",
    "    res[dist][\"KS-Stat\"] = ks\n",
    "    res[dist][\"Jensen-Shannon\"] = js\n",
    "    res[dist][\"Wasserstein-Distance\"] = wd\n",
    "    res[dist][\"Energy-Distance\"] = ed"
   ]
  },
  {
   "cell_type": "code",
   "execution_count": 32,
   "metadata": {},
   "outputs": [
    {
     "data": {
      "image/png": "[encoded data removed]",
      "text/plain": [
       "<matplotlib.figure.Figure at 0x118c06860>"
      ]
     },
     "metadata": {},
     "output_type": "display_data"
    },
    {
     "data": {
      "image/png": "[encoded data removed]",
      "text/plain": [
       "<matplotlib.figure.Figure at 0x11895dd30>"
      ]
     },
     "metadata": {},
     "output_type": "display_data"
    },
    {
     "data": {
      "image/png": "[encoded data removed]",
      "text/plain": [
       "<matplotlib.figure.Figure at 0x117c23ac8>"
      ]
     },
     "metadata": {},
     "output_type": "display_data"
    },
    {
     "data": {
      "image/png": "[encoded data removed]",
      "text/plain": [
       "<matplotlib.figure.Figure at 0x1186d5be0>"
      ]
     },
     "metadata": {},
     "output_type": "display_data"
    },
    {
     "data": {
      "image/png": "[encoded data removed]",
      "text/plain": [
       "<matplotlib.figure.Figure at 0x117a99518>"
      ]
     },
     "metadata": {},
     "output_type": "display_data"
    }
   ],
   "source": [
    "normal = pd.DataFrame(res['normal'])\n",
    "beta = pd.DataFrame(res['beta'])\n",
    "exponential = pd.DataFrame(res['exponential'])\n",
    "gamma = pd.DataFrame(res['gamma'])\n",
    "gumbel = pd.DataFrame(res['gumbel'])\n",
    "\n",
    "distance_metrics = [\"KL-Divergence\",\"Jensen-Shannon\",\"KS-Stat\",\"Wasserstein-Distance\",\"Energy-Distance\"]\n",
    "for dist in distance_metrics:\n",
    "    plt.plot(range(epochs),normal[dist], label=\"Normal\")\n",
    "    plt.plot(range(epochs),beta[dist], label=\"Beta\")\n",
    "    plt.plot(range(epochs),exponential[dist], label=\"Exponential\")\n",
    "    plt.plot(range(epochs),gamma[dist], label=\"Gamma\")\n",
    "    plt.plot(range(epochs),gumbel[dist], label=\"Gumbel\")\n",
    "    plt.xlabel(\"Epoch\")\n",
    "    plt.ylabel(dist)\n",
    "    plt.title(dist)\n",
    "    plt.legend()\n",
    "    plt.show()\n"
   ]
  },
  {
   "cell_type": "markdown",
   "metadata": {},
   "source": [
    "## 2. Empirical Analysis of Mode Collapse"
   ]
  },
  {
   "cell_type": "markdown",
   "metadata": {},
   "source": [
    "#### Three methods to measure mode collapse Inception Score, MODE Score, Frechet Inception Distance"
   ]
  },
  {
   "cell_type": "code",
   "execution_count": null,
   "metadata": {
    "collapsed": true
   },
   "outputs": [],
   "source": [
    "# Here's where I'm not yet sure how to approach the problem. "
   ]
  },
  {
   "cell_type": "markdown",
   "metadata": {},
   "source": [
    "## 3. Empirical Evaluation of Performance with varying Information Geometry"
   ]
  },
  {
   "cell_type": "code",
   "execution_count": null,
   "metadata": {
    "collapsed": true
   },
   "outputs": [],
   "source": [
    "# Here we look over different degrees of complexity which we can define before. "
   ]
  },
  {
   "cell_type": "markdown",
   "metadata": {},
   "source": [
    "## 4. Evaluation of Empirical Sample Complexity"
   ]
  },
  {
   "cell_type": "code",
   "execution_count": null,
   "metadata": {
    "collapsed": true
   },
   "outputs": [],
   "source": [
    "# Here we're looking at number of samples. So, we just loop through samples!"
   ]
  },
  {
   "cell_type": "markdown",
   "metadata": {},
   "source": [
    "## Here's all the GANs by themselves"
   ]
  },
  {
   "cell_type": "markdown",
   "metadata": {},
   "source": [
    "# WGAN"
   ]
  },
  {
   "cell_type": "code",
   "execution_count": null,
   "metadata": {
    "collapsed": true
   },
   "outputs": [],
   "source": [
    "model = wgan.GAN(image_size = size, hidden_dim = 256, z_dim = 128)\n",
    "if torch.cuda.is_available():\n",
    "    model = model.cuda()\n",
    "trainer = wgan.Trainer(train_iter, val_iter, test_iter)\n",
    "model = trainer.train(model = model, num_epochs = n, G_lr = 5e-5, D_lr = 5e-5, D_steps = 5, clip = 0.01)"
   ]
  },
  {
   "cell_type": "markdown",
   "metadata": {},
   "source": [
    "# WGAN GP"
   ]
  },
  {
   "cell_type": "code",
   "execution_count": null,
   "metadata": {
    "collapsed": true
   },
   "outputs": [],
   "source": [
    "model = wgpgan.GAN(image_size = size, hidden_dim = 256, z_dim = 128) \n",
    "if torch.cuda.is_available():\n",
    "    model = model.cuda()\n",
    "trainer = wgpgan.Trainer(train_iter, val_iter, test_iter)\n",
    "model = trainer.train(model = model, num_epochs = n, G_lr = 1e-4, D_lr = 1e-4, D_steps = 5)"
   ]
  },
  {
   "cell_type": "markdown",
   "metadata": {},
   "source": [
    "# VAE"
   ]
  },
  {
   "cell_type": "code",
   "execution_count": null,
   "metadata": {
    "collapsed": true
   },
   "outputs": [],
   "source": [
    "model = vae.VAE(image_size = size, hidden_dim = 400, z_dim = 20)\n",
    "if torch.cuda.is_available():\n",
    "    model.cuda()\n",
    "trainer = vae.Trainer(train_iter, val_iter, test_iter)\n",
    "model = trainer.train(model, num_epochs = n)\n",
    "\n",
    "# # Explore latent space\n",
    "# viz = vae.Viz(train_iter, val_iter, test_iter, model)\n",
    "# viz.make_all()"
   ]
  },
  {
   "cell_type": "markdown",
   "metadata": {},
   "source": [
    "# NS GAN"
   ]
  },
  {
   "cell_type": "code",
   "execution_count": null,
   "metadata": {
    "collapsed": true
   },
   "outputs": [],
   "source": [
    "model = nsgan.GAN(image_size = size, hidden_dim = 256, z_dim = 128)\n",
    "if torch.cuda.is_available():\n",
    "    model = model.cuda()\n",
    "trainer = nsgan.Trainer(train_iter, val_iter, test_iter)\n",
    "model = trainer.train(model = model, num_epochs = n, G_lr = 2e-4, D_lr = 2e-4, D_steps = 1)"
   ]
  },
  {
   "cell_type": "markdown",
   "metadata": {},
   "source": [
    "# MM GAN"
   ]
  },
  {
   "cell_type": "code",
   "execution_count": null,
   "metadata": {
    "collapsed": true
   },
   "outputs": [],
   "source": [
    "model = mmgan.GAN(image_size = size, hidden_dim = 400, z_dim = 100)\n",
    "if torch.cuda.is_available():\n",
    "    model = model.cuda()\n",
    "trainer = mmgan.Trainer(train_iter, val_iter, test_iter)\n",
    "model = trainer.train(model = model, num_epochs = n, G_lr = 2e-4, D_lr = 2e-4, G_init = 5, D_steps = 1)"
   ]
  },
  {
   "cell_type": "markdown",
   "metadata": {},
   "source": [
    "# LS GAN"
   ]
  },
  {
   "cell_type": "code",
   "execution_count": null,
   "metadata": {
    "collapsed": true
   },
   "outputs": [],
   "source": [
    "model = lsgan.GAN(image_size = size, hidden_dim = 256, z_dim = 128)\n",
    "if torch.cuda.is_available():\n",
    "    model = model.cuda()\n",
    "trainer = lsgan.Trainer(train_iter, val_iter, test_iter)\n",
    "model = trainer.train(model = model, num_epochs = n, G_lr = 1e-4, D_lr = 1e-4, D_steps = 1)"
   ]
  },
  {
   "cell_type": "markdown",
   "metadata": {},
   "source": [
    "# DRA GAN"
   ]
  },
  {
   "cell_type": "code",
   "execution_count": null,
   "metadata": {
    "collapsed": true
   },
   "outputs": [],
   "source": [
    "model = dragan.GAN(image_size = size, hidden_dim = 256, z_dim = 128)\n",
    "if torch.cuda.is_available():\n",
    "    model = model.cuda()\n",
    "trainer = dragan.Trainer(train_iter, val_iter, test_iter)\n",
    "model = trainer.train(model = model, num_epochs = n, G_lr = 1e-4, D_lr = 1e-4, D_steps = 1)"
   ]
  },
  {
   "cell_type": "markdown",
   "metadata": {},
   "source": [
    "# BE GAN"
   ]
  },
  {
   "cell_type": "code",
   "execution_count": null,
   "metadata": {
    "collapsed": true
   },
   "outputs": [],
   "source": [
    "model = began.GAN(image_size = size, hidden_dim = 256, z_dim = 128)\n",
    "if torch.cuda.is_available():\n",
    "    model = model.cuda()\n",
    "trainer = began.Trainer(train_iter, val_iter, test_iter)\n",
    "model = trainer.train(model = model, num_epochs = n, G_lr = 1e-4, D_lr = 1e-4, D_steps = 1)"
   ]
  },
  {
   "cell_type": "code",
   "execution_count": null,
   "metadata": {
    "collapsed": true
   },
   "outputs": [],
   "source": []
  },
  {
   "cell_type": "code",
   "execution_count": null,
   "metadata": {
    "collapsed": true
   },
   "outputs": [],
   "source": []
  }
 ],
 "metadata": {
  "kernelspec": {
   "display_name": "Python 3",
   "language": "python",
   "name": "python3"
  },
  "language_info": {
   "codemirror_mode": {
    "name": "ipython",
    "version": 3
   },
   "file_extension": ".py",
   "mimetype": "text/x-python",
   "name": "python",
   "nbconvert_exporter": "python",
   "pygments_lexer": "ipython3",
   "version": "3.6.3"
  }
 },
 "nbformat": 4,
 "nbformat_minor": 2
}
