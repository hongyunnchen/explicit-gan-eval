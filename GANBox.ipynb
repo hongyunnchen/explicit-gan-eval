{
 "cells": [
  {
   "cell_type": "code",
   "execution_count": 1,
   "metadata": {},
   "outputs": [],
   "source": [
    "import data\n",
    "import torch\n",
    "from torch.utils.data import TensorDataset\n",
    "import numpy as np\n",
    "from scipy.stats import entropy\n",
    "\n",
    "import gans.w_gan as wgan\n",
    "import gans.w_gp_gan as wgpgan\n",
    "import gans.vae as vae\n",
    "import gans.ns_gan as nsgan\n",
    "import gans.mm_gan as mmgan\n",
    "import gans.ls_gan as lsgan\n",
    "import gans.dra_gan as dragan\n",
    "import gans.be_gan as began\n",
    "from gans.load_data import get_data\n",
    "from gans.utils import to_var"
   ]
  },
  {
   "cell_type": "code",
   "execution_count": 2,
   "metadata": {
    "collapsed": true
   },
   "outputs": [],
   "source": [
    "n=1\n",
    "size=200\n",
    "i = 0\n",
    "j = 0\n",
    "distributions = ['normal', 'beta', 'exponential', 'gamma', 'gumbel', 'laplace']\n",
    "pdfs = ['uniform', 'random']"
   ]
  },
  {
   "cell_type": "code",
   "execution_count": 3,
   "metadata": {
    "collapsed": true
   },
   "outputs": [],
   "source": [
    "def preprocess(generator, samples, BATCH_SIZE = 100):\n",
    "    data_train = torch.from_numpy(generator.generate_samples(samples)).float()\n",
    "    data_val = torch.from_numpy(generator.generate_samples(samples)).float()\n",
    "    data_test = torch.from_numpy(generator.generate_samples(samples)).float()\n",
    "    labels_train = torch.from_numpy(np.zeros((samples,1)))\n",
    "    train = TensorDataset(data_train, labels_train)\n",
    "    val =TensorDataset(data_val, labels_train)\n",
    "    test = TensorDataset(data_test, labels_train)\n",
    "    train_iter = torch.utils.data.DataLoader(train, batch_size=BATCH_SIZE, shuffle=True)\n",
    "    val_iter = torch.utils.data.DataLoader(val, batch_size=BATCH_SIZE, shuffle=True)\n",
    "    test_iter = torch.utils.data.DataLoader(test, batch_size=BATCH_SIZE, shuffle=True)\n",
    "    return train_iter, val_iter, test_iter"
   ]
  },
  {
   "cell_type": "markdown",
   "metadata": {},
   "source": [
    "# Multivariate Distributions Example"
   ]
  },
  {
   "cell_type": "code",
   "execution_count": 4,
   "metadata": {
    "collapsed": true
   },
   "outputs": [],
   "source": [
    "# generator = data.Distribution(distributions[i], 200)\n",
    "# generator.save_dist('output_file.pickle')  # Saving the generator"
   ]
  },
  {
   "cell_type": "markdown",
   "metadata": {},
   "source": [
    "# Mixture Models Example"
   ]
  },
  {
   "cell_type": "code",
   "execution_count": 5,
   "metadata": {},
   "outputs": [],
   "source": [
    "# generator = data.MixtureDistribution(distributions[i], distributions[j], n_mixtures=15, dim=200)\n",
    "# generator.get_log_likelihood(data_train)\n",
    "# generator.save_dist()"
   ]
  },
  {
   "cell_type": "markdown",
   "metadata": {},
   "source": [
    "# Circles Example"
   ]
  },
  {
   "cell_type": "code",
   "execution_count": 6,
   "metadata": {},
   "outputs": [],
   "source": [
    "# generator = data.CirclesDatasetGenerator(size=256, n_circles=4, random_colors=True, random_sizes=True, modes=20)\n",
    "# x = generator.generate_samples(10000)\n",
    "# print(len(x))\n",
    "# print(x[0].shape)\n",
    "# generator.generate_samples_to_directory(5000, './dataset_1')\n",
    "# generator.save_generator('./generator1.pickle')"
   ]
  },
  {
   "cell_type": "markdown",
   "metadata": {},
   "source": [
    "# MNIST Data"
   ]
  },
  {
   "cell_type": "code",
   "execution_count": 7,
   "metadata": {
    "collapsed": true
   },
   "outputs": [],
   "source": [
    "train_iter, val_iter, test_iter = get_data()"
   ]
  },
  {
   "cell_type": "code",
   "execution_count": 8,
   "metadata": {},
   "outputs": [
    {
     "data": {
      "text/plain": [
       "torch.Size([50000, 1, 28, 28])"
      ]
     },
     "execution_count": 8,
     "metadata": {},
     "output_type": "execute_result"
    }
   ],
   "source": [
    "train_iter.dataset.data_tensor.shape"
   ]
  },
  {
   "cell_type": "markdown",
   "metadata": {},
   "source": [
    "# Preprocessing Synthetic Data"
   ]
  },
  {
   "cell_type": "code",
   "execution_count": 9,
   "metadata": {},
   "outputs": [],
   "source": [
    "generator = data.Distribution(distributions[i], size) "
   ]
  },
  {
   "cell_type": "code",
   "execution_count": 10,
   "metadata": {
    "collapsed": true
   },
   "outputs": [],
   "source": [
    "train_iter, val_iter, test_iter = preprocess(generator, 10000)"
   ]
  },
  {
   "cell_type": "code",
   "execution_count": 11,
   "metadata": {},
   "outputs": [
    {
     "data": {
      "text/plain": [
       "torch.Size([10000, 200])"
      ]
     },
     "execution_count": 11,
     "metadata": {},
     "output_type": "execute_result"
    }
   ],
   "source": [
    "train_iter.dataset.data_tensor.shape"
   ]
  },
  {
   "cell_type": "markdown",
   "metadata": {},
   "source": [
    "# Controlled Experiments on GANs"
   ]
  },
  {
   "cell_type": "markdown",
   "metadata": {},
   "source": [
    "## 1. Divergence Measures between Distributions"
   ]
  },
  {
   "cell_type": "markdown",
   "metadata": {},
   "source": [
    "#### Measuring divergence between Synthetic Data and GAN Data with the following metrics: KL Divergences, Jensen-Shannon Divergence, Optimal Tranport Distance, Wasserstein Distance, Energy Distance, Total Variation Distance\n"
   ]
  },
  {
   "cell_type": "code",
   "execution_count": 12,
   "metadata": {},
   "outputs": [
    {
     "data": {
      "application/vnd.jupyter.widget-view+json": {
       "model_id": "840b23efd23642b48a5bdf36f6d84f16",
       "version_major": 2,
       "version_minor": 0
      },
      "text/plain": [
       "A Jupyter Widget"
      ]
     },
     "metadata": {},
     "output_type": "display_data"
    },
    {
     "name": "stdout",
     "output_type": "stream",
     "text": [
      "Epoch[1/1], G Loss: -0.0055, D Loss: -0.2837\n",
      "\n"
     ]
    }
   ],
   "source": [
    "# Example with WGAN\n",
    "model = wgan.GAN(image_size = size, hidden_dim = 256, z_dim = 1)\n",
    "if torch.cuda.is_available():\n",
    "    model = model.cuda()\n",
    "trainer = wgan.Trainer(train_iter, val_iter, test_iter)\n",
    "model = trainer.train(model = model, num_epochs = n, G_lr = 5e-5, D_lr = 5e-5, D_steps = 5, clip = 0.01)"
   ]
  },
  {
   "cell_type": "code",
   "execution_count": 13,
   "metadata": {},
   "outputs": [],
   "source": [
    "data_actual = torch.from_numpy(generator.generate_samples(10000)).float()\n",
    "data_actual = to_var(data_actual)\n",
    "noise = to_var(torch.randn(1000, 1))\n",
    "data_gan = model.G(noise)\n",
    "a = data_actual.data.numpy()\n",
    "b = data_gan.data.numpy()\n"
   ]
  },
  {
   "cell_type": "code",
   "execution_count": 14,
   "metadata": {},
   "outputs": [
    {
     "data": {
      "text/plain": [
       "array([[-2.05917382, -0.36331111, -0.83420134, ..., -1.04250824,\n",
       "        -1.07983208,  0.54676396],\n",
       "       [-0.11467439, -0.00607845,  0.66130626, ..., -0.98574871,\n",
       "         0.71506691,  1.52987111],\n",
       "       [ 0.64632928,  0.44065332,  0.30837309, ...,  1.06818366,\n",
       "        -0.54909253, -0.05914635],\n",
       "       ..., \n",
       "       [-0.24698199,  1.04276586,  1.87095046, ...,  1.12448835,\n",
       "        -0.02806244,  1.89680398],\n",
       "       [-0.66029161, -0.3672798 ,  0.57202709, ..., -0.29143873,\n",
       "         0.52248794,  1.13417041],\n",
       "       [ 2.35224724,  1.67268836,  0.89586365, ...,  0.27577114,\n",
       "         1.11837709, -0.02581001]], dtype=float32)"
      ]
     },
     "execution_count": 14,
     "metadata": {},
     "output_type": "execute_result"
    }
   ],
   "source": [
    "a"
   ]
  },
  {
   "cell_type": "code",
   "execution_count": 15,
   "metadata": {},
   "outputs": [
    {
     "data": {
      "text/plain": [
       "array([[ 0.46247408,  0.54285944,  0.50542468, ...,  0.44964212,\n",
       "         0.60158163,  0.43732852],\n",
       "       [ 0.45528194,  0.55819452,  0.53013235, ...,  0.44677815,\n",
       "         0.5556947 ,  0.47703022],\n",
       "       [ 0.38111433,  0.5419057 ,  0.54269558, ...,  0.40546203,\n",
       "         0.49150854,  0.51318818],\n",
       "       ..., \n",
       "       [ 0.46399528,  0.54550892,  0.50571424, ...,  0.45196706,\n",
       "         0.59539515,  0.44478455],\n",
       "       [ 0.43420798,  0.54904872,  0.50481588, ...,  0.41821757,\n",
       "         0.63725603,  0.38978702],\n",
       "       [ 0.40744522,  0.54773605,  0.54244715, ...,  0.4189299 ,\n",
       "         0.5098325 ,  0.50150669]], dtype=float32)"
      ]
     },
     "execution_count": 15,
     "metadata": {},
     "output_type": "execute_result"
    }
   ],
   "source": [
    "b"
   ]
  },
  {
   "cell_type": "code",
   "execution_count": 16,
   "metadata": {},
   "outputs": [],
   "source": [
    "# ll_1 = generator.get_log_likelihood(a)\n",
    "# ll_2 = generator.get_log_likelihood(b)"
   ]
  },
  {
   "cell_type": "code",
   "execution_count": 17,
   "metadata": {},
   "outputs": [
    {
     "name": "stdout",
     "output_type": "stream",
     "text": [
      "0.000192270719539\n",
      "0.656948300176\n"
     ]
    }
   ],
   "source": [
    "print(entropy(pk=[0.2, 0.2], qk=[0.75, 0.78]))\n",
    "print(entropy(pk=[.99, 0.01], qk=[0.49, 0.51]))"
   ]
  },
  {
   "cell_type": "code",
   "execution_count": null,
   "metadata": {
    "collapsed": true
   },
   "outputs": [],
   "source": []
  },
  {
   "cell_type": "markdown",
   "metadata": {},
   "source": [
    "## 2. Empirical Analysis of Mode Collapse"
   ]
  },
  {
   "cell_type": "markdown",
   "metadata": {},
   "source": [
    "#### Three methods to measure mode collapse Inception Score, MODE Score, Frechet Inception Distance"
   ]
  },
  {
   "cell_type": "code",
   "execution_count": null,
   "metadata": {
    "collapsed": true
   },
   "outputs": [],
   "source": []
  },
  {
   "cell_type": "markdown",
   "metadata": {},
   "source": [
    "## 3. Empirical Evaluation of Performance with varying Information Geometry"
   ]
  },
  {
   "cell_type": "code",
   "execution_count": null,
   "metadata": {
    "collapsed": true
   },
   "outputs": [],
   "source": []
  },
  {
   "cell_type": "markdown",
   "metadata": {},
   "source": [
    "## 4. Evaluation of Empirical Sample Complexity"
   ]
  },
  {
   "cell_type": "code",
   "execution_count": null,
   "metadata": {
    "collapsed": true
   },
   "outputs": [],
   "source": []
  },
  {
   "cell_type": "code",
   "execution_count": null,
   "metadata": {
    "collapsed": true
   },
   "outputs": [],
   "source": []
  },
  {
   "cell_type": "code",
   "execution_count": 18,
   "metadata": {
    "collapsed": true
   },
   "outputs": [],
   "source": [
    "n = 1"
   ]
  },
  {
   "cell_type": "markdown",
   "metadata": {},
   "source": [
    "# WGAN"
   ]
  },
  {
   "cell_type": "code",
   "execution_count": 19,
   "metadata": {},
   "outputs": [
    {
     "data": {
      "application/vnd.jupyter.widget-view+json": {
       "model_id": "aabfb4b8191b40519eed00c4046f6163",
       "version_major": 2,
       "version_minor": 0
      },
      "text/plain": [
       "A Jupyter Widget"
      ]
     },
     "metadata": {},
     "output_type": "display_data"
    },
    {
     "name": "stdout",
     "output_type": "stream",
     "text": [
      "Epoch[1/1], G Loss: -0.0024, D Loss: -0.2949\n",
      "\n"
     ]
    }
   ],
   "source": [
    "model = wgan.GAN(image_size = size, hidden_dim = 256, z_dim = 128)\n",
    "if torch.cuda.is_available():\n",
    "    model = model.cuda()\n",
    "trainer = wgan.Trainer(train_iter, val_iter, test_iter)\n",
    "model = trainer.train(model = model, num_epochs = n, G_lr = 5e-5, D_lr = 5e-5, D_steps = 5, clip = 0.01)"
   ]
  },
  {
   "cell_type": "code",
   "execution_count": null,
   "metadata": {},
   "outputs": [],
   "source": []
  },
  {
   "cell_type": "code",
   "execution_count": null,
   "metadata": {},
   "outputs": [],
   "source": []
  },
  {
   "cell_type": "markdown",
   "metadata": {},
   "source": [
    "# WGAN GP"
   ]
  },
  {
   "cell_type": "code",
   "execution_count": 20,
   "metadata": {},
   "outputs": [
    {
     "data": {
      "application/vnd.jupyter.widget-view+json": {
       "model_id": "1f0491c9019e49e0a14c7426e5042899",
       "version_major": 2,
       "version_minor": 0
      },
      "text/plain": [
       "A Jupyter Widget"
      ]
     },
     "metadata": {},
     "output_type": "display_data"
    },
    {
     "name": "stdout",
     "output_type": "stream",
     "text": [
      "Epoch[1/1], G Loss: -0.1147, D Loss: 0.6302\n",
      "\n"
     ]
    }
   ],
   "source": [
    "model = wgpgan.GAN(image_size = size, hidden_dim = 256, z_dim = 128) \n",
    "if torch.cuda.is_available():\n",
    "    model = model.cuda()\n",
    "trainer = wgpgan.Trainer(train_iter, val_iter, test_iter)\n",
    "model = trainer.train(model = model, num_epochs = n, G_lr = 1e-4, D_lr = 1e-4, D_steps = 5)"
   ]
  },
  {
   "cell_type": "markdown",
   "metadata": {},
   "source": [
    "# VAE"
   ]
  },
  {
   "cell_type": "code",
   "execution_count": 21,
   "metadata": {},
   "outputs": [
    {
     "data": {
      "application/vnd.jupyter.widget-view+json": {
       "model_id": "ed3063bc0ec34e1da02556502933d72f",
       "version_major": 2,
       "version_minor": 0
      },
      "text/plain": [
       "A Jupyter Widget"
      ]
     },
     "metadata": {},
     "output_type": "display_data"
    },
    {
     "name": "stdout",
     "output_type": "stream",
     "text": [
      "Epoch[1/1], Total Loss: -131097.4583, Reconst Loss: -141953.2655, KL Div: 10855.8065222, Val Loss: -170863.9643\n",
      "\n"
     ]
    }
   ],
   "source": [
    "model = vae.VAE(image_size = size, hidden_dim = 400, z_dim = 20)\n",
    "if torch.cuda.is_available():\n",
    "    model.cuda()\n",
    "trainer = vae.Trainer(train_iter, val_iter, test_iter)\n",
    "model = trainer.train(model, num_epochs = n)\n",
    "\n",
    "# # Explore latent space\n",
    "# viz = vae.Viz(train_iter, val_iter, test_iter, model)\n",
    "# viz.make_all()"
   ]
  },
  {
   "cell_type": "markdown",
   "metadata": {},
   "source": [
    "# NS GAN"
   ]
  },
  {
   "cell_type": "code",
   "execution_count": 22,
   "metadata": {},
   "outputs": [
    {
     "data": {
      "application/vnd.jupyter.widget-view+json": {
       "model_id": "4eecc859eb374d6f8e174b788b6d42c1",
       "version_major": 2,
       "version_minor": 0
      },
      "text/plain": [
       "A Jupyter Widget"
      ]
     },
     "metadata": {},
     "output_type": "display_data"
    },
    {
     "name": "stdout",
     "output_type": "stream",
     "text": [
      "Epoch[1/1], G Loss: 1.1754, D Loss: 0.7038\n",
      "\n"
     ]
    }
   ],
   "source": [
    "model = nsgan.GAN(image_size = size, hidden_dim = 256, z_dim = 128)\n",
    "if torch.cuda.is_available():\n",
    "    model = model.cuda()\n",
    "trainer = nsgan.Trainer(train_iter, val_iter, test_iter)\n",
    "model = trainer.train(model = model, num_epochs = n, G_lr = 2e-4, D_lr = 2e-4, D_steps = 1)"
   ]
  },
  {
   "cell_type": "markdown",
   "metadata": {},
   "source": [
    "# MM GAN"
   ]
  },
  {
   "cell_type": "code",
   "execution_count": 23,
   "metadata": {},
   "outputs": [
    {
     "name": "stdout",
     "output_type": "stream",
     "text": [
      "G pre-trained for 5 training steps.\n"
     ]
    },
    {
     "name": "stderr",
     "output_type": "stream",
     "text": [
      "/Users/heart/anaconda3/lib/python3.6/site-packages/torch/nn/functional.py:1189: UserWarning: Using a target size (torch.Size([100])) that is different to the input size (torch.Size([100, 1])) is deprecated. Please ensure they have the same size.\n",
      "  \"Please ensure they have the same size.\".format(target.size(), input.size()))\n"
     ]
    },
    {
     "data": {
      "application/vnd.jupyter.widget-view+json": {
       "model_id": "882ca915b7b249fc96f0a091b6871e9c",
       "version_major": 2,
       "version_minor": 0
      },
      "text/plain": [
       "A Jupyter Widget"
      ]
     },
     "metadata": {},
     "output_type": "display_data"
    },
    {
     "name": "stdout",
     "output_type": "stream",
     "text": [
      "Epoch[1/1], G Loss: -0.3372, D Loss: 0.6338\n",
      "\n"
     ]
    }
   ],
   "source": [
    "model = mmgan.GAN(image_size = size, hidden_dim = 400, z_dim = 100)\n",
    "if torch.cuda.is_available():\n",
    "    model = model.cuda()\n",
    "trainer = mmgan.Trainer(train_iter, val_iter, test_iter)\n",
    "model = trainer.train(model = model, num_epochs = n, G_lr = 2e-4, D_lr = 2e-4, G_init = 5, D_steps = 1)"
   ]
  },
  {
   "cell_type": "markdown",
   "metadata": {},
   "source": [
    "# LS GAN"
   ]
  },
  {
   "cell_type": "code",
   "execution_count": 24,
   "metadata": {},
   "outputs": [
    {
     "data": {
      "application/vnd.jupyter.widget-view+json": {
       "model_id": "8407aac79c5c418e90003334dba5d62b",
       "version_major": 2,
       "version_minor": 0
      },
      "text/plain": [
       "A Jupyter Widget"
      ]
     },
     "metadata": {},
     "output_type": "display_data"
    },
    {
     "name": "stdout",
     "output_type": "stream",
     "text": [
      "Epoch[1/1], G Loss: 0.2025, D Loss: 0.1378\n",
      "\n"
     ]
    }
   ],
   "source": [
    "model = lsgan.GAN(image_size = size, hidden_dim = 256, z_dim = 128)\n",
    "if torch.cuda.is_available():\n",
    "    model = model.cuda()\n",
    "trainer = lsgan.Trainer(train_iter, val_iter, test_iter)\n",
    "model = trainer.train(model = model, num_epochs = n, G_lr = 1e-4, D_lr = 1e-4, D_steps = 1)"
   ]
  },
  {
   "cell_type": "markdown",
   "metadata": {},
   "source": [
    "# DRA GAN"
   ]
  },
  {
   "cell_type": "code",
   "execution_count": 25,
   "metadata": {},
   "outputs": [
    {
     "data": {
      "application/vnd.jupyter.widget-view+json": {
       "model_id": "85853f5bbcb541c1a0d40c246693c59a",
       "version_major": 2,
       "version_minor": 0
      },
      "text/plain": [
       "A Jupyter Widget"
      ]
     },
     "metadata": {},
     "output_type": "display_data"
    },
    {
     "name": "stdout",
     "output_type": "stream",
     "text": [
      "Epoch[1/1], G Loss: 0.7838, D Loss: 9.1333\n",
      "\n"
     ]
    }
   ],
   "source": [
    "model = dragan.GAN(image_size = size, hidden_dim = 256, z_dim = 128)\n",
    "if torch.cuda.is_available():\n",
    "    model = model.cuda()\n",
    "trainer = dragan.Trainer(train_iter, val_iter, test_iter)\n",
    "model = trainer.train(model = model, num_epochs = n, G_lr = 1e-4, D_lr = 1e-4, D_steps = 1)"
   ]
  },
  {
   "cell_type": "markdown",
   "metadata": {},
   "source": [
    "# BE GAN"
   ]
  },
  {
   "cell_type": "code",
   "execution_count": 26,
   "metadata": {},
   "outputs": [
    {
     "data": {
      "application/vnd.jupyter.widget-view+json": {
       "model_id": "df8ee8ca687f4a84b2fd0edf57f14471",
       "version_major": 2,
       "version_minor": 0
      },
      "text/plain": [
       "A Jupyter Widget"
      ]
     },
     "metadata": {},
     "output_type": "display_data"
    },
    {
     "name": "stdout",
     "output_type": "stream",
     "text": [
      "Epoch[1/1], G Loss: 0.0644, D Loss: 0.8443, K: 0.0359, Convergence Measure: 1.0281\n",
      "\n"
     ]
    }
   ],
   "source": [
    "model = began.GAN(image_size = size, hidden_dim = 256, z_dim = 128)\n",
    "if torch.cuda.is_available():\n",
    "    model = model.cuda()\n",
    "trainer = began.Trainer(train_iter, val_iter, test_iter)\n",
    "model = trainer.train(model = model, num_epochs = n, G_lr = 1e-4, D_lr = 1e-4, D_steps = 1)"
   ]
  },
  {
   "cell_type": "code",
   "execution_count": null,
   "metadata": {
    "collapsed": true
   },
   "outputs": [],
   "source": []
  },
  {
   "cell_type": "code",
   "execution_count": null,
   "metadata": {
    "collapsed": true
   },
   "outputs": [],
   "source": []
  }
 ],
 "metadata": {
  "kernelspec": {
   "display_name": "Python 3",
   "language": "python",
   "name": "python3"
  },
  "language_info": {
   "codemirror_mode": {
    "name": "ipython",
    "version": 3
   },
   "file_extension": ".py",
   "mimetype": "text/x-python",
   "name": "python",
   "nbconvert_exporter": "python",
   "pygments_lexer": "ipython3",
   "version": "3.6.3"
  }
 },
 "nbformat": 4,
 "nbformat_minor": 2
}
